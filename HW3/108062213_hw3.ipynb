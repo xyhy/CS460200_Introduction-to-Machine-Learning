{
  "cells": [
    {
      "cell_type": "markdown",
      "metadata": {
        "id": "IagZMs0_qjdL"
      },
      "source": [
        "# 1. Introduction\n",
        "\n",
        "Welcome to your third assignment. In this assignment, you will build a deep neural network step by step. In this notebook, you will implement all the functions required to build a neural network.\n",
        "\n",
        "After finishing this assignment, you will have a deeper understanding of the process of training a deep neural network, which only consists of three steps: forward propagation, backward propagation and update."
      ]
    },
    {
      "cell_type": "markdown",
      "metadata": {
        "id": "yGFR00CQvoaH"
      },
      "source": [
        "# 2. Packages\n",
        "All the packages that you need to finish this assignment are listed below.\n",
        "*   numpy : the fundamental package for scientific computing with Python.\n",
        "*   matplotlib : a comprehensive library for creating static, animated, and interactive visualizations in Python.\n",
        "*   math : Python has a built-in module that you can use for mathematical tasks.\n",
        "*   sklearn.datasets : scikit-learn comes with a few small standard datasets that do not require to download any file from some external website. You will be using the Iris dataset to build a binary classifier.\n",
        "*   pandas.read_csv : provides functionality for reading a csv dataset from a GitHub repository.\n",
        "\n",
        "⚠️ **WARNING** ⚠️: \n",
        "*   Please do not import any other packages.\n",
        "*   np.random.seed(1) is used to keep all the random function calls consistent. It will help us grade your work. Please don't change the seed.\n",
        "\n",
        "💡 **Reminder** 💡: The basic part only includes binary classification. Functions like `softmax()` and `compute_CCE_loss` are counted as the bonus part, you can skip these implementations if you wish to do the basic part only 😀. If you are not sure which part belongs to the bonus part, you can refer to the code. For the bonus part, the code will look as follows: `### START CODE HERE ### (...) (bonus)`. Please set `bonus` to True in the first code cell if you want to do the bonus part.\n",
        "\n",
        "❗ **Important** ❗: Please do not change the code outside this code bracket.\n",
        "```\n",
        "### START CODE HERE ### (≈ n lines of code)\n",
        "...\n",
        "### END CODE HERE ###\n",
        "```\n",
        "\n"
      ]
    },
    {
      "cell_type": "code",
      "execution_count": 148,
      "metadata": {
        "id": "fmTH9UkeqdYf"
      },
      "outputs": [],
      "source": [
        "import numpy as np\n",
        "import matplotlib.pyplot as plt\n",
        "import math\n",
        "from sklearn import datasets\n",
        "from pandas import read_csv\n",
        "\n",
        "output = {}\n",
        "\n",
        "\"\"\"\n",
        "Set bonus to True if you want to do the bonus part\n",
        "\"\"\"\n",
        "### START CODE HERE ### (≈ 1 line of code) (bonus)\n",
        "bonus = True\n",
        "### END CODE HERE ###"
      ]
    },
    {
      "cell_type": "code",
      "execution_count": 149,
      "metadata": {
        "id": "vsx_EzPf58rf"
      },
      "outputs": [],
      "source": [
        "# Helper function\n",
        "def predict(X, y, parameters, classes):\n",
        "    \"\"\"\n",
        "    This function is used to predict the results of a  L-layer neural network.\n",
        "    \n",
        "    Arguments:\n",
        "    X -- data set of examples you would like to label\n",
        "    parameters -- parameters of the trained model\n",
        "    classes - number of classes, 2 for binary classification, >2 for multi-class classification\n",
        "    \n",
        "    Returns:\n",
        "    p -- predictions for the given dataset X\n",
        "    \"\"\"\n",
        "    \n",
        "    m = X.shape[1]\n",
        "    n = len(parameters) // 2 # number of layers in the neural network\n",
        "\n",
        "    if classes == 2:\n",
        "      p = np.zeros((1,m))\n",
        "    else:\n",
        "      p = np.zeros((classes, m))\n",
        "    \n",
        "    # Forward propagation\n",
        "    probas, caches = L_model_forward(X, parameters, classes)\n",
        "    \n",
        "    if classes == 2:\n",
        "      # convert probas to 0/1 predictions\n",
        "      for i in range(0, probas.shape[1]):\n",
        "          if probas[0,i] > 0.5:\n",
        "              p[0,i] = 1\n",
        "          else:\n",
        "              p[0,i] = 0\n",
        "\n",
        "      #print results\n",
        "      if y is not None:\n",
        "        print(\"Accuracy: \"  + str(np.sum((p == y)/m)))\n",
        "\n",
        "    else:\n",
        "      # convert probas to one hot vector predictions\n",
        "      prediction = np.argmax(probas, axis=0, out=None)\n",
        "    \n",
        "      for i in range(len(prediction)):\n",
        "          p[prediction[i], i] = 1\n",
        "\n",
        "      #print results\n",
        "      if y is not None:\n",
        "        correct = 0\n",
        "        for i in range(m):\n",
        "          if (p[:, i] == y[:, i]).all():\n",
        "            correct += 1\n",
        "        print(\"Accuracy: \"  + str(correct/m))\n",
        "        \n",
        "    return p"
      ]
    },
    {
      "cell_type": "markdown",
      "metadata": {
        "id": "4t0BnaDRzYil"
      },
      "source": [
        "# 3. Forward propagation module\n",
        "## 3.1. Implement a linear layer\n",
        "In this section, you will need to implement a linear layer. A linear layer applies a linear transformation to the incoming data:\n",
        "$Z = WA + b$, where $W$ and $b$ are the weight and bias.\n",
        "\n",
        "**Note**: Fully-connected layers, also known as linear layers, connect every input neuron to every output neuron and are commonly used in neural networks.\n",
        "\n",
        "### 3.1.1. Initialize parameters (1-layer neural network)\n",
        "**Exercise**: Create and initialize parameters of a linear layer with He initialization. (5%)\n",
        "\n",
        "\"He Initialization\" is named for the first author of He et al., 2015. (If you have heard of \"Xavier initialization\", this is similar except Xavier initialization uses a scaling factor for the weights $W^{[l]}$ of sqrt(1./layers_dims[l-1]) where He initialization would use sqrt(2./layers_dims[l-1]).)\n",
        "\n",
        "**Instructions**:\n",
        "*   Use random initialization (normal distribution) for the weight matrices and multiply it by $\\sqrt{\\frac{2}{\\text{dimension of the previous layer}}}$.\n",
        "*   Use zero initialization for the biases and multiply it by $\\sqrt{\\frac{2}{\\text{dimension of the previous layer}}}$.\n",
        "\n",
        "\n"
      ]
    },
    {
      "cell_type": "code",
      "execution_count": 150,
      "metadata": {
        "id": "x0KHo8w9yqbY"
      },
      "outputs": [],
      "source": [
        "# GRADED FUNCTION: initialize_parameters\n",
        "\n",
        "def initialize_parameters(n_x, n_y):\n",
        "    \"\"\"\n",
        "    Argument:\n",
        "    n_x -- size of the input layer\n",
        "    n_y -- size of the output layer\n",
        "    \n",
        "    Returns:\n",
        "    parameters -- python dictionary containing your parameters:\n",
        "                    W1 -- weight matrix of shape (n_y, n_x)\n",
        "                    b1 -- bias vector of shape (n_y, 1)\n",
        "    \"\"\"\n",
        "    \n",
        "    np.random.seed(1)\n",
        "    \n",
        "    ### START CODE HERE ### (≈ 2 lines of code)\n",
        "    W1 = np.random.randn(n_y, n_x) * np.sqrt(2./n_x)\n",
        "    b1 = np.zeros((n_y ,1)) * np.sqrt(2./n_x)\n",
        "    ### END CODE HERE ###\n",
        "    \n",
        "    assert(W1.shape == (n_y, n_x))\n",
        "    assert(b1.shape == (n_y, 1))\n",
        "    \n",
        "    parameters = {\"W1\": W1,\n",
        "                  \"b1\": b1}\n",
        "    \n",
        "    return parameters"
      ]
    },
    {
      "cell_type": "code",
      "execution_count": 151,
      "metadata": {
        "colab": {
          "base_uri": "https://localhost:8080/"
        },
        "id": "7HNAWwmg8R7T",
        "outputId": "59d67c19-1fd0-4945-f1be-38ce9e4dcdcd"
      },
      "outputs": [
        {
          "name": "stdout",
          "output_type": "stream",
          "text": [
            "W1 = [[ 1.32627244 -0.49949702 -0.43125043]]\n",
            "b1 = [[0.]]\n"
          ]
        }
      ],
      "source": [
        "parameters = initialize_parameters(3,1)\n",
        "print(\"W1 = \" + str(parameters[\"W1\"]))\n",
        "print(\"b1 = \" + str(parameters[\"b1\"]))\n",
        "\n",
        "output[\"initialize_parameters\"] = initialize_parameters(4, 2)"
      ]
    },
    {
      "cell_type": "markdown",
      "metadata": {
        "id": "OtPtH0j3BFN7"
      },
      "source": [
        "Expected output: \n",
        "<table>\n",
        "  <tr>\n",
        "    <td>W1: </td>\n",
        "    <td>[[ 1.32627244 -0.49949702 -0.43125043]]</td>\n",
        "  </tr>\n",
        "  <tr>\n",
        "    <td>b1: </td>\n",
        "    <td>[[0.]]</td>\n",
        "  </tr>\n",
        "</table>"
      ]
    },
    {
      "cell_type": "markdown",
      "metadata": {
        "id": "ztHAQoBC-seU"
      },
      "source": [
        "### 3.1.2. Initialize parameters (L-layer neural network)\n",
        "**Exercise**: Create and initialize parameters for an L-layer neural network with He initialization. (5%)\n",
        "\n",
        "**Instructions**:\n",
        "*   Use random initialization (normal distribution) for the weight matrices and multiply it by $\\sqrt{\\frac{2}{\\text{dimension of the previous layer}}}$.\n",
        "*   Use zero initialization for the biases and multiply it by $\\sqrt{\\frac{2}{\\text{dimension of the previous layer}}}$."
      ]
    },
    {
      "cell_type": "code",
      "execution_count": 152,
      "metadata": {
        "id": "DEAIJKJ7-iQz"
      },
      "outputs": [],
      "source": [
        "# GRADED FUNCTION: initialize_parameters_deep\n",
        "\n",
        "def initialize_parameters_deep(layer_dims):\n",
        "    \"\"\"\n",
        "    Arguments:\n",
        "    layer_dims -- python array (list) containing the dimensions of each layer in our network\n",
        "    \n",
        "    Returns:\n",
        "    parameters -- python dictionary containing your parameters \"W1\", \"b1\", ..., \"WL\", \"bL\":\n",
        "                    Wl -- weight matrix of shape (layer_dims[l], layer_dims[l-1])\n",
        "                    bl -- bias vector of shape (layer_dims[l], 1)\n",
        "    \"\"\"\n",
        "    \n",
        "    np.random.seed(1)\n",
        "    parameters = {}\n",
        "    L = len(layer_dims)            # number of layers in the network\n",
        "\n",
        "    for l in range(1, L):\n",
        "        ### START CODE HERE ### (≈ 2 lines of code)\n",
        "        parameters['W' + str(l)] = np.random.randn(layer_dims[l], layer_dims[l-1]) * np.sqrt(2./layer_dims[l-1])\n",
        "        parameters['b' + str(l)] = np.zeros((layer_dims[l], 1)) * np.sqrt(2./layer_dims[l-1])\n",
        "        ### END CODE HERE ###\n",
        "\n",
        "        assert(parameters['W' + str(l)].shape == (layer_dims[l], layer_dims[l-1]))\n",
        "        assert(parameters['b' + str(l)].shape == (layer_dims[l], 1))\n",
        "\n",
        "    return parameters"
      ]
    },
    {
      "cell_type": "code",
      "execution_count": 153,
      "metadata": {
        "colab": {
          "base_uri": "https://localhost:8080/"
        },
        "id": "zPSp12IZ_j38",
        "outputId": "81a4d68c-aadd-4328-e2ee-3c6548e592ff"
      },
      "outputs": [
        {
          "name": "stdout",
          "output_type": "stream",
          "text": [
            "W1 = [[ 1.02732621 -0.38690873 -0.33404515 -0.67860494  0.54733184]\n",
            " [-1.45562088  1.10351585 -0.48142952  0.20177804 -0.15771567]\n",
            " [ 0.92471825 -1.30294739 -0.20391454 -0.2428973   0.71705876]\n",
            " [-0.69563232 -0.10905317 -0.55520641  0.02669832  0.36860471]]\n",
            "b1 = [[0.]\n",
            " [0.]\n",
            " [0.]\n",
            " [0.]]\n",
            "W2 = [[-0.77825528  0.8094419   0.63752091  0.35531715]\n",
            " [ 0.63700135 -0.48346861 -0.08689651 -0.66168891]\n",
            " [-0.18942548  0.37501795 -0.48907801 -0.28054711]]\n",
            "b2 = [[0.]\n",
            " [0.]\n",
            " [0.]]\n"
          ]
        }
      ],
      "source": [
        "parameters = initialize_parameters_deep([5,4,3])\n",
        "print(\"W1 = \" + str(parameters[\"W1\"]))\n",
        "print(\"b1 = \" + str(parameters[\"b1\"]))\n",
        "print(\"W2 = \" + str(parameters[\"W2\"]))\n",
        "print(\"b2 = \" + str(parameters[\"b2\"]))\n",
        "\n",
        "output[\"initialize_parameters_deep\"] = initialize_parameters_deep([3,4,5])"
      ]
    },
    {
      "cell_type": "markdown",
      "metadata": {
        "id": "IC38k01CC0Nn"
      },
      "source": [
        "Expected output: \n",
        "<table>\n",
        "  <tr>\n",
        "    <td>W1: </td>\n",
        "    <td>[[ 1.02732621 -0.38690873 -0.33404515 -0.67860494  0.54733184]\n",
        " [-1.45562088  1.10351585 -0.48142952  0.20177804 -0.15771567]\n",
        " [ 0.92471825 -1.30294739 -0.20391454 -0.2428973   0.71705876]\n",
        " [-0.69563232 -0.10905317 -0.55520641  0.02669832  0.36860471]]</td>\n",
        "  </tr>\n",
        "  <tr>\n",
        "    <td>b1: </td>\n",
        "    <td>[[0.]\n",
        " [0.]\n",
        " [0.]\n",
        " [0.]]</td>\n",
        "  </tr>\n",
        "  <tr>\n",
        "    <td>W2: </td>\n",
        "    <td>[[-0.77825528  0.8094419   0.63752091  0.35531715]\n",
        " [ 0.63700135 -0.48346861 -0.08689651 -0.66168891]\n",
        " [-0.18942548  0.37501795 -0.48907801 -0.28054711]]</td>\n",
        "  </tr>\n",
        "  <tr>\n",
        "    <td>b2: </td>\n",
        "    <td>[[0.]\n",
        " [0.]\n",
        " [0.]]</td>\n",
        "  </tr>\n",
        "</table>"
      ]
    },
    {
      "cell_type": "markdown",
      "metadata": {
        "id": "abu7YqxeAeMz"
      },
      "source": [
        "### 3.1.3. Linear forward\n",
        "\n",
        "After initializing parameters, you will need to apply the linear transformation to the incoming data, and this can be simply done by matrix multiplication and addition.\n",
        "\n",
        "**Exercise**: Apply the linear transformation. (5%)"
      ]
    },
    {
      "cell_type": "code",
      "execution_count": 154,
      "metadata": {
        "id": "O_oGueTE8X61"
      },
      "outputs": [],
      "source": [
        "# GRADED FUNCTION: linear_forward\n",
        "\n",
        "def linear_forward(A, W, b):\n",
        "    \"\"\"\n",
        "    Implement the linear part of a layer's forward propagation.\n",
        "\n",
        "    Arguments:\n",
        "    A -- activations from previous layer (or input data): (size of previous layer, number of examples)\n",
        "    W -- weights matrix: numpy array of shape (size of current layer, size of previous layer)\n",
        "    b -- bias vector, numpy array of shape (size of the current layer, 1)\n",
        "\n",
        "    Returns:\n",
        "    Z -- the input of the activation function, also called pre-activation parameter \n",
        "    cache -- a python tuple containing \"A\", \"W\" and \"b\" ; stored for computing the backward pass efficiently\n",
        "    \"\"\"\n",
        "    \n",
        "    ### START CODE HERE ### (≈ 1 line of code)\n",
        "    Z = np.dot(W,A)+b\n",
        "    ### END CODE HERE ###\n",
        "    \n",
        "    assert(Z.shape == (W.shape[0], A.shape[1]))\n",
        "    cache = (A, W, b)\n",
        "    \n",
        "    return Z, cache"
      ]
    },
    {
      "cell_type": "code",
      "execution_count": 155,
      "metadata": {
        "colab": {
          "base_uri": "https://localhost:8080/"
        },
        "id": "SSf8JIyjaj_A",
        "outputId": "7c753ccc-5712-449d-cda8-c503ecfe012e"
      },
      "outputs": [
        {
          "name": "stdout",
          "output_type": "stream",
          "text": [
            "Z = [[1.9 2.2 2.5]]\n"
          ]
        }
      ],
      "source": [
        "A, W, b = np.array([[0, 0.5, 1], [1, 1.5, 2], [2, 2.5, 3]]), np.array([[0.1, 0.2, 0.3]]), np.array([[1.1]])\n",
        "\n",
        "Z, linear_cache = linear_forward(A, W, b)\n",
        "print(\"Z = \" + str(Z))\n",
        "\n",
        "output[\"linear_forward\"] = linear_forward(np.array([[0, -0.5, -1], [1, 1.5, 2], [-2, -2.5, -3]]), np.array([[0.5, 0.3, 0.7]]), np.array([[-1.1]]))"
      ]
    },
    {
      "cell_type": "markdown",
      "metadata": {
        "id": "NpcPlE8-EUsR"
      },
      "source": [
        "Expected output: \n",
        "<table>\n",
        "  <tr>\n",
        "    <td>Z: </td>\n",
        "    <td>[[1.9 2.2 2.5]]</td>\n",
        "  </tr>\n",
        "</table>"
      ]
    },
    {
      "cell_type": "markdown",
      "metadata": {
        "id": "syt1bV3bdI_f"
      },
      "source": [
        "## 3.2. Activation function layer\n",
        "\n",
        "In this section, you will need to implement activation function layers. There are many activation functions, such as sigmoid function, softmax function, ReLU function and etc. \n",
        "\n",
        "### 3.2.1. Sigmoid function\n",
        "Sigmoid: $\\sigma(Z) = \\begin{cases}\n",
        "    \\frac{1}{1+e^{-Z}},& \\text{if } Z >= 0\\\\\n",
        "    \\frac{e^{Z}}{1+e^{Z}}, & \\text{otherwise}\n",
        "\\end{cases}$. \n",
        "\n",
        "❗**Important**❗: As you can see, there is an exponential function inside the sigmoid function, so you might encounter an exponential overflow problem when implementing this function. To solve this problem, we use the numerically stable sigmoid function as shown in the equation above.\n",
        "\n",
        "### 3.2.2. Softmax function\n",
        "Softmax: $\\sigma(\\vec{Z})_i = \\frac{e^{Z_i-b}}{\\sum_{j=1}^{K} e^{Z_j-b}}$, where $\\vec{Z}$ = input vector, $K$ = number of classes in the multi-class classifier, $b$ is $\\max_{j=1}^{K} Z_j$\n",
        "\n",
        "❗**Important**❗: The naive implementation $\\sigma(\\vec{Z})_i = \\frac{e^{Z_i}}{\\sum_{j=1}^{K} e^{Z_j}}$ is terrible when there are large numbers! You might encounter the following problems if you use the naive implementation.\n",
        "*   RuntimeWarning: overflow encountered in exp\n",
        "\n",
        "\n",
        "### 3.2.3. ReLU (rectified linear unit) function\n",
        "ReLU: $RELU(Z) = max(Z, 0)$\n",
        "\n"
      ]
    },
    {
      "cell_type": "markdown",
      "metadata": {
        "id": "5PkLKaFWiWmF"
      },
      "source": [
        "**Exercise**: Implement activation function. (10%+5%) (basic: Sigmoid and ReLU, bonus: Softmax)\n",
        "\n",
        "**Instruction**: \n",
        "*   Sigmoid: This function returns two items: the activation value \"a\" and a cache \"a\" contains \"z\" (it's what we will feed in to the corresponding backward function).\n",
        "*   Softmax: This function returns two items: the activation value \"a\" and a cache \"a\" contains \"z\" (it's what we will feed in to the corresponding backward function).\n",
        "*   ReLU: This function returns two items: the activation value \"a\" and a cache \"a\" contains \"z\" (it's what we will feed in to the corresponding backward function)."
      ]
    },
    {
      "cell_type": "code",
      "execution_count": 156,
      "metadata": {
        "id": "Nnuv8MmebMgg"
      },
      "outputs": [],
      "source": [
        "# GRADED FUNCTION: sigmoid, softmax, relu\n",
        "\n",
        "def sigmoid(Z):\n",
        "    \"\"\"\n",
        "    Implements the sigmoid activation in numpy\n",
        "    \n",
        "    Arguments:\n",
        "    Z -- numpy array of any shape\n",
        "    \n",
        "    Returns:\n",
        "    A -- output of sigmoid(z), same shape as Z\n",
        "    cache -- returns Z as well, useful during backpropagation\n",
        "    \"\"\"\n",
        "\n",
        "    ### START CODE HERE ### (≈ 8 lines of code)\n",
        "    if (np.sum(Z, axis=1, keepdims=True))>=0:\n",
        "      A = 1/(1+np.exp(-Z))\n",
        "    else:\n",
        "      A = np.exp(Z)/(1+np.exp(Z))\n",
        "    cache = Z\n",
        "    ### END CODE HERE ###\n",
        "    \n",
        "    return A, cache\n",
        "\n",
        "def softmax(Z):\n",
        "    \"\"\"\n",
        "    Implements the softmax activation in numpy\n",
        "    \n",
        "    Arguments:\n",
        "    Z -- numpy array of any shape (dim 0: number of classes, dim 1: number of samples)\n",
        "    \n",
        "    Returns:\n",
        "    A -- output of softmax(z), same shape as Z\n",
        "    cache -- returns Z as well, useful during backpropagation\n",
        "    \"\"\"\n",
        "\n",
        "    ### START CODE HERE ### (≈ 2 lines of code) (bonus)\n",
        "    m = np.max(Z, axis=0)\n",
        "    A = np.exp(Z-m)/np.sum(np.exp(Z-m), axis=0)\n",
        "    cache = Z\n",
        "    \n",
        "    ### END CODE HERE ###\n",
        "    \n",
        "    return A, cache\n",
        "\n",
        "def relu(Z):\n",
        "    \"\"\"\n",
        "    Implement the RELU function in numpy\n",
        "    Arguments:\n",
        "    Z -- numpy array of any shape\n",
        "    Returns:\n",
        "    A -- output of relu(z), same shape as Z\n",
        "    cache -- returns Z as well, useful during backpropagation\n",
        "    \"\"\"\n",
        "    \n",
        "    ### START CODE HERE ### (≈ 2 lines of code)\n",
        "    A = np.maximum(0,Z)\n",
        "    cache = Z\n",
        "    ### END CODE HERE ###\n",
        "    \n",
        "    assert(A.shape == Z.shape)\n",
        "    \n",
        "    return A, cache"
      ]
    },
    {
      "cell_type": "code",
      "execution_count": 157,
      "metadata": {
        "colab": {
          "base_uri": "https://localhost:8080/"
        },
        "id": "gBuRAoeUC5jV",
        "outputId": "9734b07c-edf7-4567-9930-f8de94e882fe"
      },
      "outputs": [
        {
          "name": "stdout",
          "output_type": "stream",
          "text": [
            "Sigmoid: A = [[0.00669285 0.26894142 0.5        0.73105858 0.99330715]]\n",
            "ReLU: A = [[0 0 0 1 5]]\n",
            "Softmax: A = \n",
            "[[0.0320586  0.1748777  0.0320586 ]\n",
            " [0.08714432 0.47536689 0.08714432]\n",
            " [0.23688282 0.1748777  0.23688282]\n",
            " [0.64391426 0.1748777  0.64391426]]\n"
          ]
        }
      ],
      "source": [
        "Z = np.array([[-5, -1, 0, 1, 5]])\n",
        "\n",
        "A, cache = sigmoid(Z)\n",
        "print(\"Sigmoid: A = \" + str(A))\n",
        "output[\"sigmoid\"] = sigmoid(np.array([[-1.82, -0.71, 0.02, 0.13, 2.21]]))\n",
        "\n",
        "A, cache = relu(Z)\n",
        "print(\"ReLU: A = \" + str(A))\n",
        "output[\"relu\"] = relu(np.array([[-1.82, -0.71, 0.02, 0.13, 2.21]]))\n",
        "\n",
        "if bonus:\n",
        "  Z = np.array([[1, 0, -2], [2, 1, -1], [3, 0, 0], [4, 0, 1]])\n",
        "  A, cache = softmax(Z)\n",
        "  print(\"Softmax: A = \\n\" + str(A))\n",
        "  output[\"softmax\"] = softmax(np.array([[0.1, 1.2, -2.1], [2.2, 0.7, -1.3], [1.4, 0.3, 0.2], [3.9, 0.5, -1.6]]))\n",
        "else:\n",
        "  output[\"softmax\"] = None"
      ]
    },
    {
      "cell_type": "markdown",
      "metadata": {
        "id": "HyyX_xxdEmNp"
      },
      "source": [
        "Expected output: \n",
        "<table>\n",
        "  <tr>\n",
        "    <td>(With sigmoid) A: </td>\n",
        "    <td>[[0.00669285 0.26894142 0.5        0.73105858 0.99330715]]</td>\n",
        "  </tr>\n",
        "  <tr>\n",
        "    <td>(With ReLU) A: </td>\n",
        "    <td>[[0 0 0 1 5]]</td>\n",
        "  </tr>\n",
        "  <tr>\n",
        "    <td>(With softmax) A: </td>\n",
        "    <td>[[0.0320586  0.1748777  0.0320586 ]\n",
        " [0.08714432 0.47536689 0.08714432]\n",
        " [0.23688282 0.1748777  0.23688282]\n",
        " [0.64391426 0.1748777  0.64391426]]</td>\n",
        "  </tr>\n",
        "</table>"
      ]
    },
    {
      "cell_type": "markdown",
      "metadata": {
        "id": "bcNYrvQHi5TZ"
      },
      "source": [
        "## 3.3. Model forward\n",
        "Alright, now you have all the tools that are needed to build a forward model. Let's get started! 😀\n",
        "\n",
        "### 3.3.1. Linear activation forward\n",
        "First, you will need to combine linear and activation function layers into a linear-activation layer, following this equation: $A^{[l]} = g(Z^{[l]}) = g(W^{[l]}A^{[l-1]}+b^{[l]})$, where activation function $g$ could be `sigmoid()`, `softmax()` or `relu()`.\n",
        "\n",
        "**Exercise**: Implement linear-activation layer. (5%)\n",
        "\n",
        "**Note**: In deep learning, a linear-activation layer is counted as a single layer in the neural network, not two layers since the activation layer does not have any parameter."
      ]
    },
    {
      "cell_type": "code",
      "execution_count": 158,
      "metadata": {
        "id": "0JGMzfIDCSVz"
      },
      "outputs": [],
      "source": [
        "# GRADED FUNCTION: linear_activation_forward\n",
        "\n",
        "def linear_activation_forward(A_prev, W, b, activation):\n",
        "    \"\"\"\n",
        "    Implement the forward propagation for the LINEAR->ACTIVATION layer\n",
        "\n",
        "    Arguments:\n",
        "    A_prev -- activations from previous layer (or input data): (size of previous layer, number of examples)\n",
        "    W -- weights matrix: numpy array of shape (size of current layer, size of previous layer)\n",
        "    b -- bias vector, numpy array of shape (size of the current layer, 1)\n",
        "    activation -- the activation to be used in this layer, stored as a text string: \"sigmoid\", \"relu\" or \"softmax\"\n",
        "\n",
        "    Returns:\n",
        "    A -- the output of the activation function, also called the post-activation value \n",
        "    cache -- a python tuple containing \"linear_cache\" and \"activation_cache\";\n",
        "             stored for computing the backward pass efficiently\n",
        "    \"\"\"\n",
        "    \n",
        "    if activation == \"sigmoid\":\n",
        "        # Inputs: \"A_prev, W, b\". Outputs: \"A, activation_cache\".\n",
        "        ### START CODE HERE ### (≈ 2 lines of code)\n",
        "        Z, linear_cache = linear_forward(A_prev, W, b) # This \"linear_cache\" contains (A_prev, W, b)\n",
        "        A, activation_cache = sigmoid(Z) # This \"activation_cache\" contains \"Z\"\n",
        "        ### END CODE HERE ###\n",
        "    \n",
        "    elif activation == \"relu\":\n",
        "        # Inputs: \"A_prev, W, b\". Outputs: \"A, activation_cache\".\n",
        "        ### START CODE HERE ### (≈ 2 lines of code)\n",
        "        Z, linear_cache = linear_forward(A_prev, W, b) # This \"linear_cache\" contains (A_prev, W, b)\n",
        "        A, activation_cache = relu(Z) # This \"activation_cache\" contains \"Z\"\n",
        "        ### END CODE HERE ###\n",
        "\n",
        "    elif activation == \"softmax\":\n",
        "        # Inputs: \"A_prev, W, b\". Outputs: \"A, activation_cache\".\n",
        "        ### START CODE HERE ### (≈ 2 lines of code)  (bonus)\n",
        "        Z, linear_cache = linear_forward(A_prev, W, b) # This \"linear_cache\" contains (A_prev, W, b)\n",
        "        A, activation_cache = softmax(Z) # This \"activation_cache\" contains \"Z\"\n",
        "        ### END CODE HERE ###\n",
        "    \n",
        "    assert (A.shape == (W.shape[0], A_prev.shape[1]))\n",
        "    cache = (linear_cache, activation_cache)\n",
        "\n",
        "    return A, cache"
      ]
    },
    {
      "cell_type": "code",
      "execution_count": 159,
      "metadata": {
        "colab": {
          "base_uri": "https://localhost:8080/"
        },
        "id": "6yVQQqe2EyHA",
        "outputId": "9452ce41-dc92-4126-e614-0cc370971a12"
      },
      "outputs": [
        {
          "name": "stdout",
          "output_type": "stream",
          "text": [
            "With sigmoid: A = [[0.64565631 0.20915937 0.77902611]]\n",
            "With ReLU: A = [[0.6  0.   1.26]]\n",
            "With softmax: A = \n",
            "[[0.47535001 0.05272708 0.68692136]\n",
            " [0.14317267 0.75380161 0.05526942]\n",
            " [0.38147732 0.19347131 0.25780921]]\n"
          ]
        }
      ],
      "source": [
        "A_prev, W, b = np.array([[0.1, -1.2, 1.9], [1.1, 0.2, 2.3], [2.9, -2.5, 3.7]]), np.array([[0.1, 0.2, 0.3]]), np.array([[-0.5]])\n",
        "\n",
        "A, linear_activation_cache = linear_activation_forward(A_prev, W, b, activation = \"sigmoid\")\n",
        "print(\"With sigmoid: A = \" + str(A))\n",
        "output[\"linear_activation_forward_sigmoid\"] = linear_activation_forward(np.array([[1.1, -2.2], [-3.9, 0.6]]), np.array([[9.1, -8.2]]), np.array([[0.5]]), activation = \"sigmoid\")\n",
        "\n",
        "A, linear_activation_cache = linear_activation_forward(A_prev, W, b, activation = \"relu\")\n",
        "print(\"With ReLU: A = \" + str(A))\n",
        "output[\"linear_activation_forward_relu\"] = linear_activation_forward(np.array([[1.1, -2.2], [-3.9, 0.6]]), np.array([[9.1, -8.2]]), np.array([[0.5]]), activation = \"relu\")\n",
        "\n",
        "if bonus:\n",
        "  A_prev, W, b = np.array([[0.1, -1.2, 1.9], [1.1, 0.2, 2.3], [2.9, -2.5, 3.7]]), np.array([[0.1, 0.2, 0.3], [-0.1, -0.2, -0.3], [-0.1, 0, 0.1]]), np.array([[-0.5], [0.5], [0.1]])\n",
        "  A, linear_activation_cache = linear_activation_forward(A_prev, W, b, activation = \"softmax\")\n",
        "  print(\"With softmax: A = \\n\" + str(A))\n",
        "  output[\"linear_activation_forward_softmax\"] = linear_activation_forward(np.array([[-0.1, 1.2, 1.9], [-1.1, 0.2, -2.3], [2.9, -2.5, -3.7]]), np.array([[0.2, 0.2, 0.2], [-0.1, -0.1, -0.1], [-0.1, 0, 0.1]]), np.array([[-0.1], [0.1], [0.5]]), activation = \"softmax\")\n",
        "else:\n",
        "  output[\"linear_activation_forward_softmax\"] = None"
      ]
    },
    {
      "cell_type": "markdown",
      "metadata": {
        "id": "QMkf2ss6F52W"
      },
      "source": [
        "Expected output: \n",
        "<table>\n",
        "  <tr>\n",
        "    <td>(With sigmoid) A: </td>\n",
        "    <td>[[0.64565631 0.20915937 0.77902611]]</td>\n",
        "  </tr>\n",
        "  <tr>\n",
        "    <td>(With ReLU) A: </td>\n",
        "    <td>[[0.6  0.   1.26]]</td>\n",
        "  </tr>\n",
        "  <tr>\n",
        "    <td>(With softmax) A: </td>\n",
        "    <td>[[0.47535001 0.05272708 0.68692136]\n",
        " [0.14317267 0.75380161 0.05526942]\n",
        " [0.38147732 0.19347131 0.25780921]]</td>\n",
        "  </tr>\n",
        "</table>"
      ]
    },
    {
      "cell_type": "markdown",
      "metadata": {
        "id": "pJVlZeyNAu-y"
      },
      "source": [
        "### 3.3.2. L model forward\n",
        "For even more convenience when implementing the $L$-layer Neural Net, you will need a function that replicates the previous one (linear_activation_forward with `relu()`) $L-1$ times, then follows that with one linear_activation_forward with `sigmoid()` for binary classification or `softmax()` for multi-class classification.\n",
        "\n",
        "In the code below, the variable AL will denote $A^{[L]} = g(Z^{[L]}) = g(W^{[L]}A^{[L-1]}+b^{[L]})$, where activation function g could be `sigmoid()` for binary classification or `softmax()` for multi-class classification.\n",
        "\n",
        "**Instruction**:\n",
        "*   Use the functions you had previously written.\n",
        "*   Use a for loop to replicate [LINEAR->RELU] (L-1) times.\n",
        "*   Don't forget to keep track of the caches in the \"caches\" list. To add a new value c to a list, you can use list.append(c).\n",
        "\n",
        "**Note**: There are N nodes in the last layer for N-class classification, but only one node for binary classification. Intuitively, this could be pretty confusing sometimes since there should be two nodes in the last layer for binary classification. However, both the one-node(sigmoid, binary cross-entropy) and two-node(softmax, categorical cross-entropy) techniques for binary classification work fine, and picking one technique over the other is a matter of subjective preference. For this assignment, you will implement the former one, which is what we usually do for binary classification.\n",
        "\n"
      ]
    },
    {
      "cell_type": "code",
      "execution_count": 160,
      "metadata": {
        "id": "k9jRgHX-FTpQ"
      },
      "outputs": [],
      "source": [
        "def L_model_forward(X, parameters, classes):\n",
        "    \"\"\"\n",
        "    Implement forward propagation for the [LINEAR->RELU]*(L-1)->LINEAR->SIGMOID computation\n",
        "    \n",
        "    Arguments:\n",
        "    X -- data, numpy array of shape (input size, number of examples)\n",
        "    parameters -- output of initialize_parameters_deep()\n",
        "    classes -- number of classes (2 for binary classification, >2 for multi-class classification) \n",
        "    \n",
        "    Returns:\n",
        "    AL -- last post-activation value\n",
        "    caches -- list of caches containing:\n",
        "                every cache of linear_activation_forward() (there are L-1 of them, indexed from 0 to L-1)\n",
        "    \"\"\"\n",
        "\n",
        "    caches = []\n",
        "    A = X\n",
        "    L = len(parameters) // 2                  # number of layers in the neural network\n",
        "    \n",
        "    # Implement [LINEAR -> RELU]*(L-1). Add \"cache\" to the \"caches\" list.\n",
        "    for l in range(1, L):\n",
        "        A_prev = A \n",
        "        A, cache = linear_activation_forward(A_prev, parameters['W' + str(l)], parameters['b' + str(l)], \"relu\")\n",
        "        caches.append(cache)\n",
        "    \n",
        "    if classes == 2:\n",
        "      # Implement LINEAR -> SIGMOID. Add \"cache\" to the \"caches\" list.\n",
        "      AL, cache = linear_activation_forward(A, parameters['W' + str(L)], parameters['b' + str(L)], \"sigmoid\")\n",
        "      caches.append(cache)\n",
        "      assert(AL.shape == (1,X.shape[1]))\n",
        "    else:\n",
        "      # Implement LINEAR -> SOFTMAX. Add \"cache\" to the \"caches\" list.\n",
        "      AL, cache = linear_activation_forward(A, parameters['W' + str(L)], parameters['b' + str(L)], \"softmax\")\n",
        "      caches.append(cache)\n",
        "      assert(AL.shape == (classes,X.shape[1]))\n",
        "            \n",
        "    return AL, caches"
      ]
    },
    {
      "cell_type": "code",
      "execution_count": 161,
      "metadata": {
        "colab": {
          "base_uri": "https://localhost:8080/"
        },
        "id": "s26LVkCbIbJ3",
        "outputId": "f66d0868-ed21-4314-f4ab-f7246d093e15"
      },
      "outputs": [
        {
          "name": "stdout",
          "output_type": "stream",
          "text": [
            "AL = [[0.07802314 0.01818575 0.00403778]]\n",
            "Length of caches list = 2\n",
            "AL = [[6.18255541e-03 7.61028230e-04 7.66374121e-05]\n",
            " [2.11940510e-01 2.01651685e-01 1.56962913e-01]\n",
            " [1.35096366e-02 2.03338206e-03 2.50381145e-04]\n",
            " [2.18485590e-02 6.14321609e-03 1.41311042e-03]\n",
            " [2.66899863e-01 4.51947825e-01 6.26088267e-01]\n",
            " [1.13256434e-01 1.07946425e-01 8.41707040e-02]\n",
            " [7.27765014e-02 3.08118586e-02 1.06721503e-02]\n",
            " [2.17220658e-02 4.88048793e-03 8.97083101e-04]\n",
            " [4.19482610e-02 1.32235761e-02 3.41028905e-03]\n",
            " [2.29915615e-01 1.80600516e-01 1.16058465e-01]]\n",
            "Length of caches list = 2\n"
          ]
        }
      ],
      "source": [
        "# binary classification\n",
        "X, parameters, classes = np.array([[0, 1, 2], [-2, -1, 0], [0.5, 0.5, 0.5]]), initialize_parameters_deep([3,3,1]), 2\n",
        "AL, caches = L_model_forward(X, parameters, classes)\n",
        "print(\"AL = \" + str(AL))\n",
        "print(\"Length of caches list = \" + str(len(caches)))\n",
        "\n",
        "# multi-class classification\n",
        "if bonus:\n",
        "  X, parameters, classes = np.array([[0, 1, 2], [-2, -1, 0], [0.5, 0.5, 0.5]]), initialize_parameters_deep([3,3,10]), 10\n",
        "  AL, caches = L_model_forward(X, parameters, classes)\n",
        "  print(\"AL = \" + str(AL))\n",
        "  print(\"Length of caches list = \" + str(len(caches)))"
      ]
    },
    {
      "cell_type": "markdown",
      "metadata": {
        "id": "zoCdrONOHhvw"
      },
      "source": [
        "Expected output: \n",
        "<table>\n",
        "  <tr>\n",
        "    <td>(Binary classification) AL: </td>\n",
        "    <td>[[0.07802314 0.01818575 0.00403778]]</td>\n",
        "  </tr>\n",
        "  <tr>\n",
        "    <td>(Binary classification) Length of caches list: </td>\n",
        "    <td>2</td>\n",
        "  </tr>\n",
        "  <tr>\n",
        "    <td>(Multi-class classification) AL: </td>\n",
        "    <td>[[6.18255541e-03 7.61028230e-04 7.66374121e-05]\n",
        " [2.11940510e-01 2.01651685e-01 1.56962913e-01]\n",
        " [1.35096366e-02 2.03338206e-03 2.50381145e-04]\n",
        " [2.18485590e-02 6.14321609e-03 1.41311042e-03]\n",
        " [2.66899863e-01 4.51947825e-01 6.26088267e-01]\n",
        " [1.13256434e-01 1.07946425e-01 8.41707040e-02]\n",
        " [7.27765014e-02 3.08118586e-02 1.06721503e-02]\n",
        " [2.17220658e-02 4.88048793e-03 8.97083101e-04]\n",
        " [4.19482610e-02 1.32235761e-02 3.41028905e-03]\n",
        " [2.29915615e-01 1.80600516e-01 1.16058465e-01]]</td>\n",
        "  </tr>\n",
        "  <tr>\n",
        "    <td>(Multi-class classification) Length of caches list: </td>\n",
        "    <td>2</td>\n",
        "  </tr>\n",
        "</table>"
      ]
    },
    {
      "cell_type": "markdown",
      "metadata": {
        "id": "SmSBVaQOSRrk"
      },
      "source": [
        "# 4. Cost function\n",
        "In this section, you will implement the cost function. We use binary cross-entropy loss for binary classification and categorical cross-entropy loss for multi-class classification. You need to compute the cost, because you want to check if your model is actually learning. Cross-entropy loss is minimized, where smaller values represent a better model than larger values. A model that predicts perfect probabilities has a cross entropy or log loss of 0.0.\n",
        "\n",
        "## 4.1. Binary cross-entropy loss\n",
        "**Exercise**: Compute the binary cross-entropy cost $J$, using the following formula: (5%) $$-\\frac{1}{m} \\sum\\limits_{i = 1}^{m} (y^{(i)}\\log\\left(a^{[L] (i)}\\right) + (1-y^{(i)})\\log\\left(1- a^{[L](i)}\\right))$$"
      ]
    },
    {
      "cell_type": "code",
      "execution_count": 162,
      "metadata": {
        "id": "MjBT0eYQaY81"
      },
      "outputs": [],
      "source": [
        "# GRADED FUNCTION: compute_BCE_cost\n",
        "\n",
        "def compute_BCE_cost(AL, Y):\n",
        "    \"\"\"\n",
        "    Implement the binary cross-entropy cost function using the above formula.\n",
        "\n",
        "    Arguments:\n",
        "    AL -- probability vector corresponding to your label predictions, shape (1, number of examples)\n",
        "    Y -- true \"label\" vector (for example: containing 0 if non-cat, 1 if cat), shape (1, number of examples)\n",
        "\n",
        "    Returns:\n",
        "    cost -- binary cross-entropy cost\n",
        "    \"\"\"\n",
        "    \n",
        "    m = Y.shape[1]\n",
        "\n",
        "    # Compute loss from aL and y.\n",
        "    ### START CODE HERE ### (≈ 1 line of code)\n",
        "    cost= np.sum( (Y*np.log(AL) + (1-Y)*np.log(1-AL)), axis=1, keepdims=True )\n",
        "    cost*=(-1/m)\n",
        "    ### END CODE HERE ###\n",
        "    \n",
        "    cost = np.squeeze(cost)      # To make sure your cost's shape is what we expect (e.g. this turns [[17]] into 17).\n",
        "    assert(cost.shape == ())\n",
        "    \n",
        "    return cost"
      ]
    },
    {
      "cell_type": "code",
      "execution_count": 163,
      "metadata": {
        "colab": {
          "base_uri": "https://localhost:8080/"
        },
        "id": "r07sqnIXaaMv",
        "outputId": "8e136779-9f76-42b6-8769-69afb0f7ebab"
      },
      "outputs": [
        {
          "name": "stdout",
          "output_type": "stream",
          "text": [
            "cost = 0.5784031417840181\n"
          ]
        }
      ],
      "source": [
        "AL, Y = np.array([[0.9, 0.6, 0.4, 0.1, 0.2, 0.8]]), np.array([[1, 1, 1, 0, 0, 0]])\n",
        "\n",
        "print(\"cost = \" + str(compute_BCE_cost(AL, Y)))\n",
        "output[\"compute_BCE_cost\"] = compute_BCE_cost(np.array([[0.791, 0.983, 0.654, 0.102, 0.212, 0.091, 0.476, 0.899]]), np.array([[1, 1, 1, 1, 0, 0, 0, 0]]))"
      ]
    },
    {
      "cell_type": "markdown",
      "metadata": {
        "id": "4iRtgOx_IGPo"
      },
      "source": [
        "Expected output: \n",
        "<table>\n",
        "  <tr>\n",
        "    <td>cost: </td>\n",
        "    <td>0.5784031417840181</td>\n",
        "  </tr>\n",
        "</table>"
      ]
    },
    {
      "cell_type": "markdown",
      "metadata": {
        "id": "aealRyKbcQzG"
      },
      "source": [
        "## 4.2. Categorical cross-entropy loss\n",
        "**Exercise**: Compute the categorical cross-entropy cost $J$, using the following formula: (5%) $$-\\frac{1}{m} \\sum\\limits_{i = 1}^{m} (y^{(i)}\\log\\left(a^{[L] (i)}\\right))$$"
      ]
    },
    {
      "cell_type": "code",
      "execution_count": 164,
      "metadata": {
        "id": "Owx-kTdcfxV5"
      },
      "outputs": [],
      "source": [
        "# GRADED FUNCTION: compute_CCE_cost\n",
        "\n",
        "def compute_CCE_cost(AL, Y):\n",
        "    \"\"\"\n",
        "    Implement the categorical cross-entropy cost function using the above formula.\n",
        "\n",
        "    Arguments:\n",
        "    AL -- probability vector corresponding to your label predictions, shape (number of classes, number of examples)\n",
        "    Y -- true \"label\" vector (one hot vector, for example: [[1], [0], [0]] represents rock, [[0], [1], [0]] represents paper, [[0], [0], [1]] represents scissors \n",
        "                              in a Rock-Paper-Scissors image classification), shape (number of classes, number of examples)\n",
        "\n",
        "    Returns:\n",
        "    cost -- categorical cross-entropy cost\n",
        "    \"\"\"\n",
        "    \n",
        "    m = Y.shape[1]\n",
        "\n",
        "    # Compute loss from aL and y.\n",
        "    ### START CODE HERE ### (≈ 1 line of code) (bonus)\n",
        "    cost = np.sum( np.sum( (Y*np.log(AL)), axis=1, keepdims=True) , axis=0, keepdims=True)\n",
        "    cost*=(-1/m)\n",
        "    ### END CODE HERE ###\n",
        "    \n",
        "    cost = np.squeeze(cost)      # To make sure your cost's shape is what we expect (e.g. this turns [[17]] into 17).\n",
        "    assert(cost.shape == ())\n",
        "    \n",
        "    return cost"
      ]
    },
    {
      "cell_type": "code",
      "execution_count": 165,
      "metadata": {
        "colab": {
          "base_uri": "https://localhost:8080/"
        },
        "id": "0YbHVAc7hSh3",
        "outputId": "7eb66017-24f9-486e-ad4a-a1aeb0ddee1a"
      },
      "outputs": [
        {
          "name": "stdout",
          "output_type": "stream",
          "text": [
            "cost = 0.472268904012926\n"
          ]
        }
      ],
      "source": [
        "if bonus:\n",
        "  AL, Y = np.array([[0.8, 0.6, 0.4, 0.1, 0.2, 0.4], [0.1, 0.3, 0.5, 0.7, 0.1, 0.1], [0.1, 0.1, 0.1, 0.2, 0.7, 0.5]]), np.array([[1, 1, 0, 0, 0, 0], [0, 0, 1, 1, 0, 0], [0, 0, 0, 0, 1, 1]])\n",
        "  print(\"cost = \" + str(compute_CCE_cost(AL, Y)))\n",
        "  output[\"compute_CCE_cost\"] = compute_CCE_cost(np.array([[0.711, 0.001, 0.11], [0.099, 0.217, 0.09], [0.035, 0.599, 0.12], [0.068, 0.123, 0.1], [0.087, 0.06, 0.58]]), np.array([[1, 0, 0], [0, 0, 0], [0, 1, 0], [0, 0, 0], [0, 0, 1]]))\n",
        "else:\n",
        "  output[\"compute_CCE_cost\"] = None"
      ]
    },
    {
      "cell_type": "markdown",
      "metadata": {
        "id": "p9VVIBB5Ic-D"
      },
      "source": [
        "Expected output: \n",
        "<table>\n",
        "  <tr>\n",
        "    <td>cost: </td>\n",
        "    <td>0.472268904012926</td>\n",
        "  </tr>\n",
        "</table>"
      ]
    },
    {
      "cell_type": "markdown",
      "metadata": {
        "id": "iuplx8dBeZtO"
      },
      "source": [
        "# 5. Backward propagation module\n",
        "In this section, you will implement helper functions for backpropagation. Remember that back propagation is used to calculate the gradient of the loss function with respect to the parameters.\n",
        "\n",
        "A quick revision for backpropapagation:\n",
        "\n",
        "<img src=\"https://raw.githubusercontent.com/amanchadha/coursera-deep-learning-specialization/6ebc4d60a90c1592aee3eaa3113eb4b37d9b4b19/C1%20-%20Neural%20Networks%20and%20Deep%20Learning/Week%204/Building%20your%20Deep%20Neural%20Network%20-%20Step%20by%20Step/images/backprop_kiank.png\" height=\"200\"/>\n",
        "\n",
        "Similar to forward propagation, you are going to build the backward propagation in three steps:\n",
        "*   LINEAR backward\n",
        "*   LINEAR -> ACTIVATION backward where ACTIVATION computes the derivative of either the ReLU, sigmoid or softmax activation\n",
        "*   [LINEAR -> RELU] $\\times$ (L-1) -> LINEAR -> SIGMOID/SOFTMAX backward (whole model)\n",
        "\n",
        "## 5.1. Linear backward\n",
        "For layer $l$, the linear part is: $Z^{[l]} = W^{[l]} A^{[l-1]} + b^{[l]}$ (followed by an activation).\n",
        "\n",
        "Suppose you have already calculated the derivative $dZ^{[l]} = \\frac{\\partial \\mathcal{L} }{\\partial Z^{[l]}}$. You want to get $(dW^{[l]}, db^{[l]}, dA^{[l-1]})$.\n",
        "\n",
        "The three outputs $(dW^{[l]}, db^{[l]}, dA^{[l-1]})$ are computed using the input $dZ^{[l]}$.Here are the formulas you need:$$ dW^{[l]} = \\frac{\\partial \\mathcal{J} }{\\partial W^{[l]}} = \\frac{1}{m} dZ^{[l]} A^{[l-1] T} $$$$ db^{[l]} = \\frac{\\partial \\mathcal{J} }{\\partial b^{[l]}} = \\frac{1}{m} \\sum_{i = 1}^{m} dZ^{[l](i)} $$$$ dA^{[l-1]} = \\frac{\\partial \\mathcal{L} }{\\partial A^{[l-1]}} = W^{[l] T} dZ^{[l]} $$\n",
        "\n",
        "**Exercise**: Use the 3 formulas above to implement `linear_backward()`. (5%)\n",
        "\n",
        "\n",
        "\n",
        "\n",
        "\n",
        "\n",
        "\n"
      ]
    },
    {
      "cell_type": "code",
      "execution_count": 166,
      "metadata": {
        "id": "k5HL2LG6eeVn"
      },
      "outputs": [],
      "source": [
        "# GRADED FUNCTION: linear_backward\n",
        "\n",
        "def linear_backward(dZ, cache):\n",
        "    # Here cache is \"linear_cache\" containing (A_prev, W, b) coming from the forward propagation in the current layer\n",
        "    \"\"\"\n",
        "    Implement the linear portion of backward propagation for a single layer (layer l)\n",
        "\n",
        "    Arguments:\n",
        "    dZ -- Gradient of the cost with respect to the linear output (of current layer l)\n",
        "    cache -- tuple of values (A_prev, W, b) coming from the forward propagation in the current layer\n",
        "\n",
        "    Returns:\n",
        "    dA_prev -- Gradient of the cost with respect to the activation (of the previous layer l-1), same shape as A_prev\n",
        "    dW -- Gradient of the cost with respect to W (current layer l), same shape as W\n",
        "    db -- Gradient of the cost with respect to b (current layer l), same shape as b\n",
        "    \"\"\"\n",
        "    A_prev, W, b = cache\n",
        "    m = A_prev.shape[1]\n",
        "\n",
        "    ### START CODE HERE ### (≈ 3 lines of code)\n",
        "    dW = 1/m*np.dot(dZ,A_prev.T)\n",
        "    db = 1/m*np.sum(dZ, axis=1, keepdims=True)\n",
        "    dA_prev = np.dot(W.T,dZ)\n",
        "    ### END CODE HERE ###\n",
        "    \n",
        "    assert (dA_prev.shape == A_prev.shape)\n",
        "    assert (dW.shape == W.shape)\n",
        "    assert (db.shape == b.shape)\n",
        "    \n",
        "    return dA_prev, dW, db"
      ]
    },
    {
      "cell_type": "code",
      "execution_count": 167,
      "metadata": {
        "colab": {
          "base_uri": "https://localhost:8080/"
        },
        "id": "QJfNFIbF4RvH",
        "outputId": "e60fe796-7f6b-41b0-f581-5440442ff562"
      },
      "outputs": [
        {
          "name": "stdout",
          "output_type": "stream",
          "text": [
            "dA_prev = [[3.5 6. ]]\n",
            "dW = [[1.625]\n",
            " [0.625]]\n",
            "db = [[2.  ]\n",
            " [0.75]]\n"
          ]
        }
      ],
      "source": [
        "# Set up some test inputs\n",
        "dZ, linear_cache = np.array([[1.5, 2.5], [0.5, 1.0]]), (np.array([[0.5, 1]]), np.array([[2.0], [1.0]]), np.array([[0.5], [1.0]]))\n",
        "\n",
        "dA_prev, dW, db = linear_backward(dZ, linear_cache)\n",
        "print (\"dA_prev = \" + str(dA_prev))\n",
        "print (\"dW = \" + str(dW))\n",
        "print (\"db = \" + str(db))\n",
        "\n",
        "output[\"linear_backward\"] = linear_backward(np.array([[0.5, -1.5], [-1.5, 2.0]]), (np.array([[0.25, 1.25]]), np.array([[-1.0], [1.0]]), np.array([[-0.5], [-1.0]])))"
      ]
    },
    {
      "cell_type": "markdown",
      "metadata": {
        "id": "7U91CObMIrP_"
      },
      "source": [
        "Expected output: \n",
        "<table>\n",
        "  <tr>\n",
        "    <td>dA_prev: </td>\n",
        "    <td>[[3.5 6. ]]</td>\n",
        "  </tr>\n",
        "  <tr>\n",
        "    <td>dW: </td>\n",
        "    <td>[[1.625]\n",
        " [0.625]]</td>\n",
        "  </tr>\n",
        "  <tr>\n",
        "    <td>db: </td>\n",
        "    <td>[[2.  ]\n",
        " [0.75]]</td>\n",
        "  </tr>\n",
        "</table>"
      ]
    },
    {
      "cell_type": "markdown",
      "metadata": {
        "id": "N3CBdcyZJHdF"
      },
      "source": [
        "## 5.2. Linear-Activation backward\n",
        "Next, you will create a function that merges the two helper functions: `linear_backward()` and the backward step for the activation `linear_activation_backward()`.\n",
        "\n",
        "First, you will need to implement the backward functions of `sigmoid()`, `relu()` and `softmax()`+`compute_CCE_cost`.\n",
        "\n",
        "**Exercise**: Implement backward function. (10%+5%) (basic: Sigmoid and ReLU, bonus: Softmax+CCE_loss)\n",
        "\n",
        "**Instruction**:\n",
        "*   sigmoid_backward: Implements the backward propagation for SIGMOID unit.\n",
        "*   relu_backward: Implements the backward propagation for RELU unit.\n",
        "*   softmax_CCE_backward: Implements the backward propagation for [SOFTMAX->LOSS] unit.\n",
        "\n",
        "If $g(.)$ is the activation function, sigmoid_backward, relu_backward and softmax_backward compute$$dZ^{[l]} = dA^{[l]} * g'(Z^{[l]})$$\n",
        "\n",
        "1. The derivative of the sigmoid function is: $$σ^{'}(Z^{[l]}) = σ(Z^{[l]}) (1 - σ(Z^{[l]}))$$. <br>\n",
        "❗**Important**❗: You should use the numerically stable sigmoid function to prevent the overflow exponential problem. \n",
        "\n",
        "2. The derivative of the relu function is: $$g'(Z^{[l]}) = \\begin{cases}\n",
        "    1,& \\text{if } Z^{[l]}> 0\\\\\n",
        "    0,              & \\text{otherwise}\n",
        "\\end{cases}$$\n",
        "\n",
        "3. TLDR😉: The derivative of the categorical cross-entropy loss with respect to the last hidden layer is: $$\\frac{\\partial \\mathcal{L}}{\\partial Z} = s - y $$. <br> The derivative of the softmax function is: $$\\frac{\\partial S(z_i)}{\\partial z_j} = \\begin{cases}\n",
        "    S(z_i) \\times (1 - S(z_i)),& \\text{if } i = j\\\\\n",
        "    -S(z_i) \\times S(z_j),              & \\text{if } i \\neq j\n",
        "\\end{cases}$$, where $z$ is a vector with shape (number of classes K, 1) and $S(z_i) = \\frac{e^{z_i}}{\\sum_{j=1}^{K} e^{z_j}}$. Hence, the real derivative of softmax function would be a full Jacobian matrix. For the special case, K = 4, we have <img src=\"https://miro.medium.com/max/554/1*SWfgFQLDIPXDf1C6CHmr8A.png\" height=\"100\"/>. <br> It is quite complicated to calculate the softmax derivative on its own. However, if you use the softmax and the cross entropy loss, that complexity fades away. Since the softmax layer is usually used at the output, we can actually calculate the derivative of the categorical cross-entropy loss with respect to the n-th node in the last hidden layer. Instead of a long clunky formula, you end up with this terse, easy to compute thing: $$\\frac{\\partial \\mathcal{L}}{\\partial Z_i} = s_i - y_i $$, where $s$ is the output of the softmax function and the $y$ is the true label vector(one-hot vector). For more information, you can refer to this article [Derivative of the Softmax Function and the Categorical Cross-Entropy Loss](https://towardsdatascience.com/derivative-of-the-softmax-function-and-the-categorical-cross-entropy-loss-ffceefc081d1). <br> \n",
        "❗**Important**❗: The above mathematical derivation is based on naive implementation. In order to deal with the exponential overflow problem, we should use the normalized exponential function when counting $s$. For the sake of simplicity, we just use the same gradient equation as the naive implementation.\n",
        "\n",
        "\n",
        "\n",
        "\n"
      ]
    },
    {
      "cell_type": "code",
      "execution_count": 168,
      "metadata": {
        "id": "m9gGiDslLqZr"
      },
      "outputs": [],
      "source": [
        "# GRADED FUNCTION: sigmoid_backward, relu_backward, softmax_CCE_backward\n",
        "\n",
        "def sigmoid_backward(dA, cache):\n",
        "    \"\"\"\n",
        "    Implement the backward propagation for a single SIGMOID unit.\n",
        "    Arguments:\n",
        "    dA -- post-activation gradient, of any shape\n",
        "    cache -- 'Z' where we store for computing backward propagation efficiently\n",
        "    Returns:\n",
        "    dZ -- Gradient of the cost with respect to Z\n",
        "    \"\"\"\n",
        "    \n",
        "    ### START CODE HERE ### (≈ 9 lines of code)\n",
        "    Z = cache\n",
        "    \n",
        "    if (np.sum(Z, axis=1, keepdims=True))>=0:\n",
        "      ZZ = 1./(1.+np.exp(-Z))\n",
        "    else:\n",
        "      ZZ = np.exp(Z)/(1.+np.exp(Z))\n",
        "\n",
        "\n",
        "    dZ = dA*ZZ*(1.-ZZ)\n",
        "    ### END CODE HERE ###\n",
        "    \n",
        "    assert (dZ.shape == Z.shape)\n",
        "    \n",
        "    return dZ\n",
        "\n",
        "def relu_backward(dA, cache):\n",
        "    \"\"\"\n",
        "    Implement the backward propagation for a single RELU unit.\n",
        "    Arguments:\n",
        "    dA -- post-activation gradient, of any shape\n",
        "    cache -- 'Z' where we store for computing backward propagation efficiently\n",
        "    Returns:\n",
        "    dZ -- Gradient of the cost with respect to Z\n",
        "    \"\"\"\n",
        "    \n",
        "    ### START CODE HERE ### (≈ 3 lines of code)\n",
        "    Z = cache\n",
        "    dZ = np.array(dA, copy=True)  # just converting dz to a correct object.  #dZ = dA*relu'(Z) = dA*1\n",
        "    dZ[Z <= 0] = 0 # When z <= 0, you should set dz to 0 as well.\n",
        "    ### END CODE HERE ###\n",
        "    \n",
        "    assert (dZ.shape == Z.shape)\n",
        "    \n",
        "    return dZ\n",
        "\n",
        "def softmax_CCE_backward(Y, cache):\n",
        "    \"\"\"\n",
        "    Implement the backward propagation for a [SOFTMAX->LOSS] unit.\n",
        "    Arguments:\n",
        "    Y -- true \"label\" vector (one hot vector, for example: [[1], [0], [0]] represents rock, [[0], [1], [0]] represents paper, [[0], [0], [1]] represents scissors \n",
        "                              in a Rock-Paper-Scissors image classification), shape (number of classes, number of examples)\n",
        "    cache -- 'Z' where we store for computing backward propagation efficiently\n",
        "    Returns:\n",
        "    dZ -- Gradient of the cost with respect to Z\n",
        "    \"\"\"\n",
        "    \n",
        "    ### START CODE HERE ### (≈ 3 lines of code) (bonus)\n",
        "    Z = cache\n",
        "    s = np.exp(Z)/np.sum(np.exp(Z), axis=0, keepdims=True)\n",
        "    dZ = (s-Y)\n",
        "\n",
        "    ### END CODE HERE ###\n",
        "    \n",
        "    assert (dZ.shape == Z.shape)\n",
        "    \n",
        "    return dZ"
      ]
    },
    {
      "cell_type": "code",
      "execution_count": 169,
      "metadata": {
        "colab": {
          "base_uri": "https://localhost:8080/"
        },
        "id": "z0OG6KtNyYZY",
        "outputId": "d6b38f40-f448-4910-d296-f4353a74420e"
      },
      "outputs": [
        {
          "name": "stdout",
          "output_type": "stream",
          "text": [
            "Sigmoid: dZ = [[-0.5        -0.26935835 -0.11969269 -0.5        -0.73139639]]\n",
            "ReLU: dZ = [[ 0.    0.   -1.14]\n",
            " [ 1.7   0.    3.72]]\n",
            "Softmax: dZ = [[-0.96488097  0.09003057  0.01766842]\n",
            " [ 0.70538451 -0.75527153  0.01766842]\n",
            " [ 0.25949646  0.66524096 -0.03533684]]\n"
          ]
        }
      ],
      "source": [
        "dA, cache = np.array([[-2, -1.37, -1.14, -2, -3.72]]), np.array([[0, 1, 2, 0, 1]])\n",
        "dZ = sigmoid_backward(dA, cache)\n",
        "print(\"Sigmoid: dZ = \"+ str(dZ))\n",
        "output[\"sigmoid_backward\"] = sigmoid_backward(np.array([[-2, -2, -1.37, -1.14, -3.72]]), np.array([[2, 0, 1.5, 0, 0.5]]))\n",
        "\n",
        "dA, cache = np.array([[-2, -1.37, -1.14], [1.7, 2, 3.72]]), np.array([[-2, -1, 2], [1, 0, 1]])\n",
        "dZ = relu_backward(dA, cache)\n",
        "print(\"ReLU: dZ = \"+ str(dZ))\n",
        "output[\"relu_backward\"] = relu_backward(np.array([[3.179, -1.376, -0.114], [2.227, -5.612, 4.172]]), np.array([[0.53, 1.21, -2.22], [-1.58, 0.99, -0.11]]))\n",
        "\n",
        "if bonus:\n",
        "  Y, cache = np.array([[1, 0, 0], [0, 1, 0], [0, 0, 1]]), np.array([[-2, -1, -2], [1, 0, -2], [0, 1, 2]])\n",
        "  dZ = softmax_CCE_backward(Y, cache)\n",
        "  print(\"Softmax: dZ = \" + str(dZ))\n",
        "  output[\"softmax_CCE_backward\"] = softmax_CCE_backward(np.array([[1, 0, 0], [0, 1, 0], [0, 0, 1]]), np.array([[-2.11, -1.22, -2.33], [1.44, 0.55, -2.66], [0.77, 1.88, 2.99]]))\n",
        "else:\n",
        "  output[\"softmax_CCE_backward\"] = None"
      ]
    },
    {
      "cell_type": "markdown",
      "metadata": {
        "id": "mQtJYDZs3ODH"
      },
      "source": [
        "Expected output: \n",
        "<table>\n",
        "  <tr>\n",
        "    <td>(With sigmoid) dZ: </td>\n",
        "    <td>[[-0.5        -0.26935835 -0.11969269 -0.5        -0.73139639]]</td>\n",
        "  </tr>\n",
        "  <tr>\n",
        "    <td>(With ReLU) dZ: </td>\n",
        "    <td>[[ 0.    0.   -1.14]\n",
        " [ 1.7   0.    3.72]]</td>\n",
        "  </tr>\n",
        "  <tr>\n",
        "    <td>(With softmax) dZ: </td>\n",
        "    <td>[[-0.96488097  0.09003057  0.01766842]\n",
        " [ 0.70538451 -0.75527153  0.01766842]\n",
        " [ 0.25949646  0.66524096 -0.03533684]]</td>\n",
        "  </tr>\n",
        "</table>"
      ]
    },
    {
      "cell_type": "markdown",
      "metadata": {
        "id": "6SLLGIfLLUkq"
      },
      "source": [
        "**Exercise**: Implement the backpropagation for the LINEAR->ACTIVATION layer. (5%)\n",
        "\n",
        "**Instruction**:\n",
        "*   Use the functions you had previously written."
      ]
    },
    {
      "cell_type": "code",
      "execution_count": 170,
      "metadata": {
        "id": "CTwbEEG14Emy"
      },
      "outputs": [],
      "source": [
        "# GRADED FUNCTION: linear_activation_backward\n",
        "\n",
        "def linear_activation_backward(dA, cache, activation):\n",
        "    \"\"\"\n",
        "    Implement the backward propagation for the LINEAR->ACTIVATION layer.\n",
        "    \n",
        "    Arguments:\n",
        "    dA -- post-activation gradient for current layer l \n",
        "    cache -- tuple of values (linear_cache, activation_cache) we store for computing backward propagation efficiently\n",
        "    activation -- the activation to be used in this layer, stored as a text string: \"sigmoid\" or \"relu\"\n",
        "    \n",
        "    Returns:\n",
        "    dA_prev -- Gradient of the cost with respect to the activation (of the previous layer l-1), same shape as A_prev\n",
        "    dW -- Gradient of the cost with respect to W (current layer l), same shape as W\n",
        "    db -- Gradient of the cost with respect to b (current layer l), same shape as b\n",
        "    \"\"\"\n",
        "    linear_cache, activation_cache = cache\n",
        "    \n",
        "    if activation == \"relu\":\n",
        "        ### START CODE HERE ### (≈ 1 line of code)\n",
        "        dZ = relu_backward(dA, activation_cache)\n",
        "        ### END CODE HERE ###\n",
        "        \n",
        "    elif activation == \"sigmoid\":\n",
        "        ### START CODE HERE ### (≈ 1 line of code)\n",
        "        dZ = sigmoid_backward(dA, activation_cache)\n",
        "        ### END CODE HERE ###\n",
        "    \n",
        "    ### START CODE HERE ### (≈ 1 line of code)\n",
        "    dA_prev, dW, db = linear_backward(dZ, linear_cache)\n",
        "    ### END CODE HERE ###\n",
        "    \n",
        "    return dA_prev, dW, db"
      ]
    },
    {
      "cell_type": "code",
      "execution_count": 171,
      "metadata": {
        "colab": {
          "base_uri": "https://localhost:8080/"
        },
        "id": "odZeIDj942uR",
        "outputId": "ddc3e579-5052-4075-8aa7-01bcc7d8905d"
      },
      "outputs": [
        {
          "name": "stdout",
          "output_type": "stream",
          "text": [
            "sigmoid:\n",
            "dA_prev = [[-1.         -0.5387167  -0.23938537 -1.         -1.46279278]\n",
            " [-0.5        -0.26935835 -0.11969269 -0.5        -0.73139639]]\n",
            "dW = [[-0.13868689  0.13868689]]\n",
            "db = [[-0.42408949]]\n",
            "\n",
            "relu:\n",
            "dA_prev = [[3.4  0.   9.72]\n",
            " [1.7  0.   4.86]\n",
            " [0.   0.   0.  ]]\n",
            "dW = [[ 0.          0.         -0.76      ]\n",
            " [-1.13333333  1.13333333  2.48      ]]\n",
            "db = [[-0.38      ]\n",
            " [ 1.80666667]]\n"
          ]
        }
      ],
      "source": [
        "dAL, linear_activation_cache  = np.array([[-2, -1.37, -1.14, -2, -3.72]]), ((np.array([[-2, -1, 0, 1, 2], [2, 1, 0, -1, -2]]), np.array([[2.0, 1.0]]), np.array([[0.5]])), np.array([[0, 1, 2, 0, 1]]))\n",
        "dA_prev, dW, db = linear_activation_backward(dAL, linear_activation_cache , activation = \"sigmoid\")\n",
        "print (\"sigmoid:\")\n",
        "print (\"dA_prev = \"+ str(dA_prev))\n",
        "print (\"dW = \" + str(dW))\n",
        "print (\"db = \" + str(db) + \"\\n\")\n",
        "output[\"linear_activation_backward_sigmoid\"] = linear_activation_backward(dAL+1, linear_activation_cache , activation = \"sigmoid\")\n",
        "\n",
        "dAL, linear_activation_cache  = np.array([[-2, -1.37, -1.14], [1.7, 2, 3.72]]), ((np.array([[-2, -1, 0], [2, 1, 0], [0, 1, 2]]), np.array([[-2, -1, 0], [2, 1, 0]]), np.array([[0.5], [-0.5]])), np.array([[-2, -1, 2], [1, 0, 1]]))\n",
        "dA_prev, dW, db = linear_activation_backward(dAL, linear_activation_cache , activation = \"relu\")\n",
        "print (\"relu:\")\n",
        "print (\"dA_prev = \"+ str(dA_prev))\n",
        "print (\"dW = \" + str(dW))\n",
        "print (\"db = \" + str(db))\n",
        "output[\"linear_activation_backward_relu\"] = linear_activation_backward(dAL+0.5, linear_activation_cache , activation = \"relu\")"
      ]
    },
    {
      "cell_type": "markdown",
      "metadata": {
        "id": "M1YFVdD17nGL"
      },
      "source": [
        "Expected output: \n",
        "<table>\n",
        "  <tr>\n",
        "    <td>Sigmoid </td>\n",
        "  </tr>\n",
        "  <tr>\n",
        "    <td>dA_prev: </td>\n",
        "    <td>[[-1.         -0.5387167  -0.23938537 -1.         -1.46279278]\n",
        " [-0.5        -0.26935835 -0.11969269 -0.5        -0.73139639]]</td>\n",
        "  </tr>\n",
        "  <tr>\n",
        "    <td>dW: </td>\n",
        "    <td>[[-0.13868689  0.13868689]]</td>\n",
        "  </tr>\n",
        "  <tr>\n",
        "    <td>db: </td>\n",
        "    <td>[[-0.42408949]]</td>\n",
        "  </tr>\n",
        "  <tr>\n",
        "    <td>ReLU </td>\n",
        "  </tr>\n",
        "  <tr>\n",
        "    <td>dA_prev: </td>\n",
        "    <td>[[3.4  0.   9.72]\n",
        " [1.7  0.   4.86]\n",
        " [0.   0.   0.  ]]</td>\n",
        "  </tr>\n",
        "  <tr>\n",
        "    <td>dW: </td>\n",
        "    <td>[[ 0.          0.         -0.76      ]\n",
        " [-1.13333333  1.13333333  2.48      ]]</td>\n",
        "  </tr>\n",
        "  <tr>\n",
        "    <td>db: </td>\n",
        "    <td>[[-0.38      ]\n",
        " [ 1.80666667]]</td>\n",
        "  </tr>\n",
        "</table>"
      ]
    },
    {
      "cell_type": "markdown",
      "metadata": {
        "id": "YOFlw70x88A6"
      },
      "source": [
        "##5.3 - L-Model Backward\n",
        "Now you will implement the backward function for the whole network. Recall that when you implemented the `L_model_forward` function, at each iteration, you stored a cache which contains (X,W,b, and z). In the back propagation module, you will use those variables to compute the gradients. Therefore, in the `L_model_backward` function, you will iterate through all the hidden layers backward, starting from layer $L$. On each step, you will use the cached values for layer $l$ to backpropagate through layer $l$. Figure below shows the backward pass.\n",
        "\n",
        "<img src=\"https://raw.githubusercontent.com/amanchadha/coursera-deep-learning-specialization/6ebc4d60a90c1592aee3eaa3113eb4b37d9b4b19/C1%20-%20Neural%20Networks%20and%20Deep%20Learning/Week%204/Building%20your%20Deep%20Neural%20Network%20-%20Step%20by%20Step/images/mn_backward.png\" height=\"400\"/>\n",
        "\n",
        "Initializing backpropagation: To backpropagate through this network, we know that the output is, $A^{[L]} = \\sigma(Z^{[L]})$. Your code thus needs to compute dAL $= \\frac{\\partial \\mathcal{L}}{\\partial A^{[L]}}$. To do so, use this formula (derived using calculus which you don't need in-depth knowledge of):\n",
        "```\n",
        "dAL = - (np.divide(Y, AL + ϵ) - np.divide(1 - Y, 1 - AL + ϵ)) # derivative of cost with respect to AL, where ϵ = 1e-5 is added to prevent zero division.\n",
        "```\n",
        "\n",
        "\n",
        "You can then use this post-activation gradient dAL to keep going backward. As seen in figure above, you can now feed in dAL into the LINEAR->SIGMOID backward function you implemented (which will use the cached values stored by the L_model_forward function). After that, you will have to use a for loop to iterate through all the other layers using the LINEAR->RELU backward function. You should store each dA, dW, and db in the grads dictionary. To do so, use this formula :\n",
        "\n",
        "$$grads[\"dW\" + str(l)] = dW^{[l]} $$\n",
        "For example, for $l=3$ this would store $dW^{[l]}$ in grads[\"dW3\"].\n"
      ]
    },
    {
      "cell_type": "code",
      "execution_count": 172,
      "metadata": {
        "id": "IPnv1BZd_GfF"
      },
      "outputs": [],
      "source": [
        "def L_model_backward(AL, Y, caches, classes):\n",
        "    \"\"\"\n",
        "    Implement the backward propagation for the [LINEAR->RELU] * (L-1) -> LINEAR -> SIGMOID group\n",
        "    \n",
        "    Arguments:\n",
        "    AL -- probability vector, output of the forward propagation (L_model_forward())\n",
        "    Y -- true \"label\" vector (containing 0 if non-cat, 1 if cat)\n",
        "    caches -- list of caches containing:\n",
        "                every cache of linear_activation_forward() with \"relu\" (it's caches[l], for l in range(L-1) i.e l = 0...L-2)\n",
        "                the cache of linear_activation_forward() with \"sigmoid\" (it's caches[L-1])\n",
        "    classes -- number of classes (2 for binary classification, >2 for multi-class classification)\n",
        "    \n",
        "    Returns:\n",
        "    grads -- A dictionary with the gradients\n",
        "             grads[\"dA\" + str(l)] = ... \n",
        "             grads[\"dW\" + str(l)] = ...\n",
        "             grads[\"db\" + str(l)] = ... \n",
        "    \"\"\"\n",
        "    grads = {}\n",
        "    L = len(caches) # the number of layers\n",
        "    m = AL.shape[1]\n",
        "    Y = Y.reshape(AL.shape) # after this line, Y is the same shape as AL\n",
        "    \n",
        "    if classes == 2:\n",
        "      # Initializing the backpropagation\n",
        "      dAL = - (np.divide(Y, AL + 1e-5) - np.divide(1 - Y, 1 - AL + 1e-5))\n",
        "      \n",
        "      # Lth layer (SIGMOID -> LINEAR) gradients. Inputs: \"dAL, current_cache\". Outputs: \"grads[\"dAL-1\"], grads[\"dWL\"], grads[\"dbL\"]\n",
        "      current_cache = caches[L-1] # Last Layer\n",
        "      grads[\"dA\" + str(L-1)], grads[\"dW\" + str(L)], grads[\"db\" + str(L)] = linear_activation_backward(dAL, current_cache, \"sigmoid\")\n",
        "    else:\n",
        "      # Initializing the backpropagation\n",
        "      linear_cache, activation_cache = caches[L-1] # Last Layer\n",
        "      dZ = softmax_CCE_backward(Y, activation_cache)\n",
        "      \n",
        "      # Lth layer (LINEAR) gradients. Inputs: \"dZ, linear_cache\". Outputs: \"grads[\"dAL-1\"], grads[\"dWL\"], grads[\"dbL\"]\n",
        "      grads[\"dA\" + str(L-1)], grads[\"dW\" + str(L)], grads[\"db\" + str(L)] = linear_backward(dZ, linear_cache)\n",
        "    \n",
        "    # Loop from l=L-2 to l=0\n",
        "    for l in reversed(range(L-1)):\n",
        "        # lth layer: (RELU -> LINEAR) gradients.\n",
        "        # Inputs: \"grads[\"dA\" + str(l + 1)], current_cache\". Outputs: \"grads[\"dA\" + str(l)] , grads[\"dW\" + str(l + 1)] , grads[\"db\" + str(l + 1)] \n",
        "        current_cache = caches[l]\n",
        "        dA_prev_temp, dW_temp, db_temp = linear_activation_backward(grads[\"dA\" + str(l + 1)], current_cache, activation = \"relu\")\n",
        "        grads[\"dA\" + str(l)] = dA_prev_temp\n",
        "        grads[\"dW\" + str(l + 1)] = dW_temp\n",
        "        grads[\"db\" + str(l + 1)] = db_temp\n",
        "\n",
        "    return grads"
      ]
    },
    {
      "cell_type": "code",
      "execution_count": 173,
      "metadata": {
        "colab": {
          "base_uri": "https://localhost:8080/"
        },
        "id": "9jaRO9SvCdEY",
        "outputId": "6e055cea-0cff-445d-ffa4-2271d159394d"
      },
      "outputs": [
        {
          "name": "stdout",
          "output_type": "stream",
          "text": [
            "Binary classification\n",
            "dW1 = [[-0.00178234 -0.12389888  0.03052914]\n",
            " [ 0.          0.          0.        ]\n",
            " [-0.01472455 -1.0235744   0.25221246]]\n",
            "db1 = [[0.06105827]\n",
            " [0.        ]\n",
            " [0.50442493]]\n",
            "dA1 = [[ 1.87699706e-01 -3.70276293e-03 -8.22125021e-04]\n",
            " [-1.10052058e+00  2.17100329e-02  4.82028195e-03]\n",
            " [ 1.55065655e+00 -3.05898912e-02 -6.79187823e-03]]\n",
            "\n",
            "Multi-class classification\n",
            "dW1 = [[ 0.42051843  0.06541362  0.0887762 ]\n",
            " [ 0.          0.          0.        ]\n",
            " [ 1.08372031 -1.61959581  0.67582903]]\n",
            "db1 = [[0.1775524 ]\n",
            " [0.        ]\n",
            " [1.35165806]]\n",
            "dA1 = [[-0.09507462 -0.00609164  0.63382346]\n",
            " [-1.45707343  0.00732963 -0.17178251]\n",
            " [ 2.4424153  -0.02604318  1.63860206]]\n"
          ]
        }
      ],
      "source": [
        "# binary classification\n",
        "X, parameters, classes = np.array([[0, 1, 2], [-2, -1, 0], [0.5, 0.5, 0.5]]), initialize_parameters_deep([3,3,1]), 2\n",
        "AL, caches = L_model_forward(X, parameters, classes)\n",
        "Y_assess = np.array([[1, 0, 0]])\n",
        "grads = L_model_backward(AL, Y_assess, caches, classes)\n",
        "print(\"Binary classification\")\n",
        "print(\"dW1 = \"+ str(grads[\"dW1\"]))\n",
        "print(\"db1 = \"+ str(grads[\"db1\"]))\n",
        "print(\"dA1 = \"+ str(grads[\"dA1\"]) +\"\\n\")\n",
        "\n",
        "# multi-class classification\n",
        "if bonus:\n",
        "  X, parameters, classes = np.array([[0, 1, 2], [-2, -1, 0], [0.5, 0.5, 0.5]]), initialize_parameters_deep([3,3,3]), 3\n",
        "  AL, caches = L_model_forward(X, parameters, classes)\n",
        "  Y_assess = np.array([[1, 0, 0], [0, 1, 0], [0, 0, 1]])\n",
        "  grads = L_model_backward(AL, Y_assess, caches, classes)\n",
        "  print(\"Multi-class classification\")\n",
        "  print(\"dW1 = \"+ str(grads[\"dW1\"]))\n",
        "  print(\"db1 = \"+ str(grads[\"db1\"]))\n",
        "  print(\"dA1 = \"+ str(grads[\"dA1\"]))"
      ]
    },
    {
      "cell_type": "markdown",
      "metadata": {
        "id": "r-pzrTaOE8tL"
      },
      "source": [
        "Expected output: \n",
        "<table>\n",
        "  <tr>\n",
        "    <td>Binary classification </td>\n",
        "  </tr>\n",
        "  <tr>\n",
        "    <td>dW1: </td>\n",
        "    <td>[[-0.00178234 -0.12389888  0.03052914]\n",
        " [ 0.          0.          0.        ]\n",
        " [-0.01472455 -1.0235744   0.25221246]]</td>\n",
        "  </tr>\n",
        "  <tr>\n",
        "    <td>db1: </td>\n",
        "    <td>[[0.06105827]\n",
        " [0.        ]\n",
        " [0.50442493]]</td>\n",
        "  </tr>\n",
        "  <tr>\n",
        "    <td>dA1: </td>\n",
        "    <td>[[ 1.87699706e-01 -3.70276293e-03 -8.22125021e-04]\n",
        " [-1.10052058e+00  2.17100329e-02  4.82028195e-03]\n",
        " [ 1.55065655e+00 -3.05898912e-02 -6.79187823e-03]]</td>\n",
        "  </tr>\n",
        "  <tr>\n",
        "    <td>Multi-class classification </td>\n",
        "  </tr>\n",
        "  <tr>\n",
        "    <td>dW1: </td>\n",
        "    <td>[[ 0.42051843  0.06541362  0.0887762 ]\n",
        " [ 0.          0.          0.        ]\n",
        " [ 1.08372031 -1.61959581  0.67582903]]</td>\n",
        "  </tr>\n",
        "  <tr>\n",
        "    <td>db1: </td>\n",
        "    <td>[[0.1775524 ]\n",
        " [0.        ]\n",
        " [1.35165806]]</td>\n",
        "  </tr>\n",
        "  <tr>\n",
        "    <td>dA1: </td>\n",
        "    <td>[[-0.09507462 -0.00609164  0.63382346]\n",
        " [-1.45707343  0.00732963 -0.17178251]\n",
        " [ 2.4424153  -0.02604318  1.63860206]]</td>\n",
        "  </tr>\n",
        "</table>"
      ]
    },
    {
      "cell_type": "markdown",
      "metadata": {
        "id": "6MkxS_itFkV3"
      },
      "source": [
        "# 6. Update parameters\n",
        "In this section you will update the parameters of the model, using gradient descent:\n",
        "\n",
        "$$ W^{[l]} = W^{[l]} - \\alpha \\text{ } dW^{[l]} $$$$ b^{[l]} = b^{[l]} - \\alpha \\text{ } db^{[l]} $$\n",
        "where $\\alpha$ is the learning rate. After computing the updated parameters, store them in the parameters dictionary.\n",
        "\n",
        "**Exercise**: Implement update_parameters() to update your parameters using gradient descent. (5%)\n",
        "\n",
        "**Instructions**: \n",
        "*   Update parameters using gradient descent on every $W^{[l]}$ and $b^{[l]}$ for $l = 1, 2, ..., L$.\n"
      ]
    },
    {
      "cell_type": "code",
      "execution_count": 174,
      "metadata": {
        "id": "GZZtqaXlFpYP"
      },
      "outputs": [],
      "source": [
        "# GRADED FUNCTION: update_parameters\n",
        "\n",
        "def update_parameters(parameters, grads, learning_rate):\n",
        "    \"\"\"\n",
        "    Update parameters using gradient descent\n",
        "    \n",
        "    Arguments:\n",
        "    parameters -- python dictionary containing your parameters \n",
        "    grads -- python dictionary containing your gradients, output of L_model_backward\n",
        "    \n",
        "    Returns:\n",
        "    parameters -- python dictionary containing your updated parameters \n",
        "                  parameters[\"W\" + str(l)] = ... \n",
        "                  parameters[\"b\" + str(l)] = ...\n",
        "    \"\"\"\n",
        "    \n",
        "    L = len(parameters) // 2 # number of layers in the neural network\n",
        "\n",
        "    # Update rule for each parameter. Use a for loop.\n",
        "    ### START CODE HERE ### (≈ 3 lines of code)\n",
        "    for l in range(L):\n",
        "        parameters[\"W\" + str(l+1)] = parameters[\"W\" + str(l+1)] - learning_rate*grads[\"dW\" + str(l+1)] \n",
        "        parameters[\"b\" + str(l+1)] = parameters[\"b\" + str(l+1)] - learning_rate*grads[\"db\" + str(l+1)] \n",
        "    ### END CODE HERE ###\n",
        "    return parameters"
      ]
    },
    {
      "cell_type": "code",
      "execution_count": 175,
      "metadata": {
        "colab": {
          "base_uri": "https://localhost:8080/"
        },
        "id": "qfKajEa9HjDO",
        "outputId": "12adc1ee-400b-456b-9da2-b7aac054b187"
      },
      "outputs": [
        {
          "name": "stdout",
          "output_type": "stream",
          "text": [
            "W1 = [[ 0.39721186  0.64025004 -0.09671178  0.27099015]\n",
            " [ 0.07752363  0.00469968  0.09679955  0.33705631]\n",
            " [ 0.392862    0.52183369  0.33138026  0.67538482]]\n",
            "b1 = [[ 0.16234149]\n",
            " [ 0.78232848]\n",
            " [-0.02592894]]\n",
            "W2 = [[0.6012798  0.38575324 0.49003974]]\n",
            "b2 = [[0.05692437]]\n"
          ]
        }
      ],
      "source": [
        "np.random.seed(1)\n",
        "parameters, grads = {\"W1\": np.random.rand(3, 4), \"b1\": np.random.rand(3,1), \"W2\": np.random.rand(1,3), \"b2\": np.random.rand(1,1)}, {\"dW1\": np.random.rand(3, 4), \"db1\": np.random.rand(3,1), \"dW2\": np.random.rand(1,3), \"db2\": np.random.rand(1,1)}\n",
        "parameters = update_parameters(parameters, grads, 0.1)\n",
        "\n",
        "print (\"W1 = \"+ str(parameters[\"W1\"]))\n",
        "print (\"b1 = \"+ str(parameters[\"b1\"]))\n",
        "print (\"W2 = \"+ str(parameters[\"W2\"]))\n",
        "print (\"b2 = \"+ str(parameters[\"b2\"]))\n",
        "\n",
        "np.random.seed(1)\n",
        "output[\"update_parameters\"] = update_parameters({\"W1\": np.random.randn(3, 4), \"b1\": np.random.randn(3,1), \"W2\": np.random.randn(1,3), \"b2\": np.random.randn(1,1)}, {\"dW1\": np.random.randn(3, 4), \"db1\": np.random.randn(3,1), \"dW2\": np.random.randn(1,3), \"db2\": np.random.randn(1,1)}, 0.075)"
      ]
    },
    {
      "cell_type": "markdown",
      "metadata": {
        "id": "e_WoEl0NMyhO"
      },
      "source": [
        "Expected output: \n",
        "<table>\n",
        "  <tr>\n",
        "    <td>W1: </td>\n",
        "    <td>[[ 0.39721186  0.64025004 -0.09671178  0.27099015]\n",
        " [ 0.07752363  0.00469968  0.09679955  0.33705631]\n",
        " [ 0.392862    0.52183369  0.33138026  0.67538482]]</td>\n",
        "  </tr>\n",
        "  <tr>\n",
        "    <td>b1: </td>\n",
        "    <td>[[ 0.16234149]\n",
        " [ 0.78232848]\n",
        " [-0.02592894]]</td>\n",
        "  </tr>\n",
        "  <tr>\n",
        "    <td>W2: </td>\n",
        "    <td>[[0.6012798  0.38575324 0.49003974]]</td>\n",
        "  </tr>\n",
        "  <tr>\n",
        "    <td>b2: </td>\n",
        "    <td>[[0.05692437]]</td>\n",
        "  </tr>\n",
        "</table>"
      ]
    },
    {
      "cell_type": "markdown",
      "metadata": {
        "id": "mpQah0JDdMyl"
      },
      "source": [
        "# Basic implementation (binary classification)\n",
        "\n",
        "Congratulations on implementing all the functions by yourself. You have done an incredible job! 👏\n",
        "\n",
        "Now you have all the tools you need to get started with classification. In this section, you will build a binary classifier using the functions you had previously written. You will create a model that can classify the different species of the Iris flower. The Iris dataset consists of 50 samples from each of three species of Iris (Iris setosa, Iris virginica and Iris versicolor). Four features were measured from each sample: the length and the width of the sepals and petals, in centimeters. However, you only need to classify Iris setosa and Iris versicolor in this exercise.\n",
        "\n",
        "**Exercise**: Implement a binary classifier and tune hyperparameter. (10%)\n",
        "\n",
        "**Instruction**:\n",
        "*   Train a model with validation accuracy higher than 80%.\n",
        "\n"
      ]
    },
    {
      "cell_type": "code",
      "execution_count": 176,
      "metadata": {
        "id": "fI7JY5ESjhZ2"
      },
      "outputs": [],
      "source": [
        "# GRADED FUNCTION: L_layer_model\n",
        "\n",
        "def L_layer_model(X, Y, layers_dims, learning_rate = 0.0075, num_iterations = 3000, print_cost=False, classes=2):\n",
        "    \"\"\"\n",
        "    Implements a L-layer neural network: [LINEAR->RELU]*(L-1)->LINEAR->SIGMOID. (binary)\n",
        "    Implements a L-layer neural network: [LINEAR->RELU]*(L-1)->LINEAR->SOFTMAX. (multi-class)\n",
        "    \n",
        "    Arguments:\n",
        "    X -- data, numpy array of shape (4, number of examples)\n",
        "    Y -- true \"label\" vector (containing 0 if setosa, 1 if versicolor), of shape (1, number of examples)\n",
        "    layers_dims -- list containing the input size and each layer size, of length (number of layers + 1).\n",
        "    learning_rate -- learning rate of the gradient descent update rule\n",
        "    num_iterations -- number of iterations of the optimization loop\n",
        "    print_cost -- if True, it prints the cost every 100 steps\n",
        "    classes -- number of classes, 2 for binary classification, >2 for multi-class classification\n",
        "    \n",
        "    Returns:\n",
        "    parameters -- parameters learnt by the model. They can then be used to predict.\n",
        "    \"\"\"\n",
        "\n",
        "    np.random.seed(1)\n",
        "    costs = []                         # keep track of cost\n",
        "    \n",
        "    # Parameters initialization. (≈ 1 line of code)\n",
        "    ### START CODE HERE ###\n",
        "    parameters = initialize_parameters_deep(layers_dims)\n",
        "    ### END CODE HERE ###\n",
        "    \n",
        "    # Loop (gradient descent)\n",
        "    for i in range(0, num_iterations):\n",
        "\n",
        "        # Forward propagation: [LINEAR -> RELU]*(L-1) -> LINEAR -> SIGMOID/SOFTMAX.\n",
        "        ### START CODE HERE ### (≈ 1 line of code)\n",
        "        AL, caches = L_model_forward(X, parameters, classes)\n",
        "        ### END CODE HERE ###\n",
        "        \n",
        "        # Compute cost.\n",
        "        if classes == 2:\n",
        "          ### START CODE HERE ### (≈ 1 line of code)\n",
        "          cost = compute_BCE_cost(AL, Y)\n",
        "          ### END CODE HERE ###\n",
        "        else:\n",
        "          ### START CODE HERE ### (≈ 1 line of code) (bonus)\n",
        "          cost = compute_CCE_cost(AL, Y)\n",
        "          ### END CODE HERE ###\n",
        "    \n",
        "        # Backward propagation.\n",
        "        ### START CODE HERE ### (≈ 1 line of code)\n",
        "        grads = L_model_backward(AL, Y, caches, classes)\n",
        "        ### END CODE HERE ###\n",
        " \n",
        "        # Update parameters.\n",
        "        ### START CODE HERE ### (≈ 1 line of code)\n",
        "        parameters = update_parameters(parameters, grads, learning_rate)\n",
        "        ### END CODE HERE ###\n",
        "                \n",
        "        # Print the cost every 100 training example\n",
        "        if print_cost and i % 100 == 0:\n",
        "            print (\"Cost after iteration %i: %f\" %(i, cost))\n",
        "        if print_cost and i % 100 == 0:\n",
        "            costs.append(cost)\n",
        "            \n",
        "    # plot the cost\n",
        "    plt.plot(np.squeeze(costs))\n",
        "    plt.ylabel('cost')\n",
        "    plt.xlabel('iterations (per hundreds)')\n",
        "    plt.title(\"Learning rate =\" + str(learning_rate))\n",
        "    plt.show()\n",
        "    \n",
        "    return parameters"
      ]
    },
    {
      "cell_type": "code",
      "execution_count": 177,
      "metadata": {
        "colab": {
          "base_uri": "https://localhost:8080/"
        },
        "id": "Gq6fq-A7dPLG",
        "outputId": "c2ccf8bc-9ec8-4c95-83ef-8d5e126db5be"
      },
      "outputs": [
        {
          "name": "stdout",
          "output_type": "stream",
          "text": [
            "shape of X: (4, 100)\n",
            "shape of y: (1, 100)\n",
            "shape of X_train: (4, 90) shape of y_train: (1, 90)\n",
            "shape of X_val: (4, 10) shape of y_val: (1, 10)\n"
          ]
        }
      ],
      "source": [
        "# load Iris dataset\n",
        "iris = datasets.load_iris()\n",
        "X = iris.data[:100].T\n",
        "y = np.expand_dims(iris.target[:100], axis=1).T\n",
        "\n",
        "print(\"shape of X: \" + str(X.shape))\n",
        "print(\"shape of y: \" + str(y.shape))\n",
        "\n",
        "# split training set and validation set\n",
        "X_train, y_train = np.concatenate((X[:, :45], X[:, 50:95]), axis=1), np.concatenate((y[:, :45], y[:, 50:95]), axis=1)\n",
        "X_val, y_val = np.concatenate((X[:, 45:50], X[:, 95:]), axis=1), np.concatenate((y[:, 45:50], y[:, 95:]), axis=1)\n",
        "\n",
        "print(\"shape of X_train: \" + str(X_train.shape) + \" shape of y_train: \" + str(y_train.shape))\n",
        "print(\"shape of X_val: \" + str(X_val.shape) + \" shape of y_val: \" + str(y_val.shape))"
      ]
    },
    {
      "cell_type": "code",
      "execution_count": 178,
      "metadata": {
        "colab": {
          "base_uri": "https://localhost:8080/",
          "height": 1000
        },
        "id": "ZDYhhVTDwA8K",
        "outputId": "2e787ac1-36b4-4e9a-faf2-1d99a1894eef"
      },
      "outputs": [
        {
          "name": "stdout",
          "output_type": "stream",
          "text": [
            "Cost after iteration 0: 0.880533\n",
            "Cost after iteration 100: 0.181211\n",
            "Cost after iteration 200: 0.102863\n",
            "Cost after iteration 300: 0.070624\n",
            "Cost after iteration 400: 0.053659\n",
            "Cost after iteration 500: 0.043037\n",
            "Cost after iteration 600: 0.035795\n",
            "Cost after iteration 700: 0.030609\n",
            "Cost after iteration 800: 0.026691\n",
            "Cost after iteration 900: 0.023633\n",
            "Cost after iteration 1000: 0.021177\n",
            "Cost after iteration 1100: 0.019163\n",
            "Cost after iteration 1200: 0.017488\n",
            "Cost after iteration 1300: 0.016068\n",
            "Cost after iteration 1400: 0.014855\n",
            "Cost after iteration 1500: 0.013803\n",
            "Cost after iteration 1600: 0.012885\n",
            "Cost after iteration 1700: 0.012077\n",
            "Cost after iteration 1800: 0.011360\n",
            "Cost after iteration 1900: 0.010720\n",
            "Cost after iteration 2000: 0.010145\n",
            "Cost after iteration 2100: 0.009627\n",
            "Cost after iteration 2200: 0.009156\n",
            "Cost after iteration 2300: 0.008727\n",
            "Cost after iteration 2400: 0.008335\n",
            "Cost after iteration 2500: 0.007976\n",
            "Cost after iteration 2600: 0.007644\n",
            "Cost after iteration 2700: 0.007338\n",
            "Cost after iteration 2800: 0.007055\n",
            "Cost after iteration 2900: 0.006791\n",
            "Cost after iteration 3000: 0.006546\n",
            "Cost after iteration 3100: 0.006318\n",
            "Cost after iteration 3200: 0.006104\n",
            "Cost after iteration 3300: 0.005903\n",
            "Cost after iteration 3400: 0.005715\n",
            "Cost after iteration 3500: 0.005537\n",
            "Cost after iteration 3600: 0.005370\n",
            "Cost after iteration 3700: 0.005212\n",
            "Cost after iteration 3800: 0.005063\n",
            "Cost after iteration 3900: 0.004922\n",
            "Cost after iteration 4000: 0.004788\n",
            "Cost after iteration 4100: 0.004661\n",
            "Cost after iteration 4200: 0.004541\n",
            "Cost after iteration 4300: 0.004426\n",
            "Cost after iteration 4400: 0.004316\n",
            "Cost after iteration 4500: 0.004212\n",
            "Cost after iteration 4600: 0.004112\n",
            "Cost after iteration 4700: 0.004017\n",
            "Cost after iteration 4800: 0.003926\n",
            "Cost after iteration 4900: 0.003838\n"
          ]
        },
        {
          "data": {
            "image/png": "[encoded data removed]",
            "text/plain": [
              "<Figure size 432x288 with 1 Axes>"
            ]
          },
          "metadata": {
            "needs_background": "light"
          },
          "output_type": "display_data"
        }
      ],
      "source": [
        "# GRADED CODE: hyperparameter tuning\n",
        "# suggestion: 1-2 layers, layer node < 100, learning rate < 0.01\n",
        "### START CODE HERE ### (≈ 2 lines of code)\n",
        "layers_dims = [4,16,1] # e.g. [4, 1]\n",
        "parameters = L_layer_model(X_train, y_train, layers_dims, learning_rate = 0.005, num_iterations = 5000, print_cost = True, classes=2)\n",
        "### END CODE HERE ###"
      ]
    },
    {
      "cell_type": "code",
      "execution_count": 179,
      "metadata": {
        "colab": {
          "base_uri": "https://localhost:8080/"
        },
        "id": "xkeoJrFZznMf",
        "outputId": "1d0c6177-f8c4-4852-9a03-823b402125db"
      },
      "outputs": [
        {
          "name": "stdout",
          "output_type": "stream",
          "text": [
            "Accuracy: 1.0\n"
          ]
        }
      ],
      "source": [
        "pred_train = predict(X_train, y_train, parameters, 2)"
      ]
    },
    {
      "cell_type": "code",
      "execution_count": 180,
      "metadata": {
        "colab": {
          "base_uri": "https://localhost:8080/"
        },
        "id": "mERo3g41zsyX",
        "outputId": "a73eaf19-c716-45c0-b0a2-03bf79a3f102"
      },
      "outputs": [
        {
          "name": "stdout",
          "output_type": "stream",
          "text": [
            "Accuracy: 1.0\n"
          ]
        }
      ],
      "source": [
        "pred_val = predict(X_val, y_val, parameters, 2)\n",
        "output[\"basic_pred_val\"] = pred_val"
      ]
    },
    {
      "cell_type": "markdown",
      "metadata": {
        "id": "fnVkyjtC62K8"
      },
      "source": [
        "Expected output: \n",
        "<table>\n",
        "  <tr>\n",
        "    <td>Accuracy: </td>\n",
        "    <td>>= 0.8</td>\n",
        "  </tr>\n",
        "</table>"
      ]
    },
    {
      "cell_type": "markdown",
      "metadata": {
        "id": "oMCpPFMVdj36"
      },
      "source": [
        "# Bonus implementation (multi class classification)\n",
        "\n",
        "In this section, you need to implement a multi-class classifier using the functions you had previously written. You will create a model that can classify four hand gestures using electromyography (EMG) signals. The EMG signal is a biomedical signal that measures electrical currents generated in muscles during its contraction representing neuromuscular activities.\n",
        "\n",
        "**Exercise**: Implement a multi-class classifier and tune hyperparameter. (10%)"
      ]
    },
    {
      "cell_type": "code",
      "execution_count": 181,
      "metadata": {
        "colab": {
          "base_uri": "https://localhost:8080/"
        },
        "id": "bVSfqnXqXGdC",
        "outputId": "5b5a8009-e2be-474f-9614-b34b66ce1db8"
      },
      "outputs": [
        {
          "name": "stdout",
          "output_type": "stream",
          "text": [
            "shape of X_train: (64, 9342)\n",
            "shape of y_train: (4, 9342)\n",
            "shape of X_test: (64, 2336)\n"
          ]
        }
      ],
      "source": [
        "# load data\n",
        "X_train = read_csv(\"https://raw.githubusercontent.com/ivanlim123/Assignment-3-Backpropagation/main/X_train.csv\", header=None).to_numpy()\n",
        "y_train = read_csv(\"https://raw.githubusercontent.com/ivanlim123/Assignment-3-Backpropagation/main/y_train.csv\", header=None).to_numpy()\n",
        "X_test = read_csv(\"https://raw.githubusercontent.com/ivanlim123/Assignment-3-Backpropagation/main/X_test.csv\", header=None).to_numpy()\n",
        "\n",
        "print(\"shape of X_train: \" + str(X_train.shape))\n",
        "print(\"shape of y_train: \" + str(y_train.shape))\n",
        "print(\"shape of X_test: \" + str(X_test.shape))"
      ]
    },
    {
      "cell_type": "code",
      "execution_count": 182,
      "metadata": {
        "id": "ljAcf2tpQDR-"
      },
      "outputs": [],
      "source": [
        "#You can split training and validation set here. (Optional)\n",
        "if bonus:\n",
        "### START CODE HERE ###\n",
        "  None\n",
        "### END CODE HERE ###"
      ]
    },
    {
      "cell_type": "code",
      "execution_count": 183,
      "metadata": {
        "colab": {
          "base_uri": "https://localhost:8080/",
          "height": 1000
        },
        "id": "HYD-qRs7doU0",
        "outputId": "c9fead68-cd4b-467d-c757-3be435316718"
      },
      "outputs": [
        {
          "name": "stdout",
          "output_type": "stream",
          "text": [
            "Cost after iteration 0: 2.504068\n",
            "Cost after iteration 100: 1.443903\n",
            "Cost after iteration 200: 1.386440\n",
            "Cost after iteration 300: 1.362457\n",
            "Cost after iteration 400: 1.348521\n",
            "Cost after iteration 500: 1.337932\n",
            "Cost after iteration 600: 1.328738\n",
            "Cost after iteration 700: 1.320168\n",
            "Cost after iteration 800: 1.311982\n",
            "Cost after iteration 900: 1.304258\n",
            "Cost after iteration 1000: 1.296606\n",
            "Cost after iteration 1100: 1.289060\n",
            "Cost after iteration 1200: 1.281482\n",
            "Cost after iteration 1300: 1.273884\n",
            "Cost after iteration 1400: 1.266203\n",
            "Cost after iteration 1500: 1.258382\n",
            "Cost after iteration 1600: 1.250468\n",
            "Cost after iteration 1700: 1.242482\n",
            "Cost after iteration 1800: 1.234300\n",
            "Cost after iteration 1900: 1.225955\n",
            "Cost after iteration 2000: 1.217432\n",
            "Cost after iteration 2100: 1.208784\n",
            "Cost after iteration 2200: 1.199922\n",
            "Cost after iteration 2300: 1.190893\n",
            "Cost after iteration 2400: 1.181766\n",
            "Cost after iteration 2500: 1.172570\n",
            "Cost after iteration 2600: 1.163250\n",
            "Cost after iteration 2700: 1.153806\n",
            "Cost after iteration 2800: 1.144222\n",
            "Cost after iteration 2900: 1.134515\n",
            "Cost after iteration 3000: 1.124754\n",
            "Cost after iteration 3100: 1.114916\n",
            "Cost after iteration 3200: 1.105096\n",
            "Cost after iteration 3300: 1.095198\n",
            "Cost after iteration 3400: 1.085345\n",
            "Cost after iteration 3500: 1.075446\n",
            "Cost after iteration 3600: 1.065536\n",
            "Cost after iteration 3700: 1.055562\n",
            "Cost after iteration 3800: 1.045529\n",
            "Cost after iteration 3900: 1.035540\n",
            "Cost after iteration 4000: 1.025684\n",
            "Cost after iteration 4100: 1.015980\n",
            "Cost after iteration 4200: 1.006322\n",
            "Cost after iteration 4300: 0.996702\n",
            "Cost after iteration 4400: 0.987168\n",
            "Cost after iteration 4500: 0.977657\n",
            "Cost after iteration 4600: 0.968309\n",
            "Cost after iteration 4700: 0.959068\n",
            "Cost after iteration 4800: 0.950057\n",
            "Cost after iteration 4900: 0.941109\n"
          ]
        },
        {
          "data": {
            "image/png": "[encoded data removed]",
            "text/plain": [
              "<Figure size 432x288 with 1 Axes>"
            ]
          },
          "metadata": {
            "needs_background": "light"
          },
          "output_type": "display_data"
        }
      ],
      "source": [
        "# GRADED CODE: hyperparameter tuning\n",
        "# suggestion: 4-5 layers, layer node < 1000, learning rate < 0.01, iterations > 2500\n",
        "if bonus:\n",
        "  ### START CODE HERE ### (≈ 2 lines of code) (bonus)\n",
        "  layers_dims = [64,8,32,8,4] #  e.g. [64, 1, 1, 1, 4]\n",
        "  parameters = L_layer_model(X_train, y_train, layers_dims, learning_rate = 0.005, num_iterations = 5000, print_cost = True, classes=4)\n",
        "  ### END CODE HERE ###"
      ]
    },
    {
      "cell_type": "code",
      "execution_count": 184,
      "metadata": {
        "colab": {
          "base_uri": "https://localhost:8080/"
        },
        "id": "yI92fh4JXC1k",
        "outputId": "429d6789-ccc8-403a-d334-a9af5f9b9e76"
      },
      "outputs": [
        {
          "name": "stdout",
          "output_type": "stream",
          "text": [
            "Accuracy: 0.5981588524941126\n"
          ]
        }
      ],
      "source": [
        "if bonus:\n",
        "  pred_train = predict(X_train, y_train, parameters, 4)"
      ]
    },
    {
      "cell_type": "code",
      "execution_count": 185,
      "metadata": {
        "id": "ehjcfSU2XD3-"
      },
      "outputs": [],
      "source": [
        "#You can check for your validation accuracy here. (Optional)\n",
        "if bonus:\n",
        "### START CODE HERE ###\n",
        "  None\n",
        "### END CODE HERE ###"
      ]
    },
    {
      "cell_type": "code",
      "execution_count": 186,
      "metadata": {
        "id": "YHFDuq2BQ2qI"
      },
      "outputs": [],
      "source": [
        "if bonus:\n",
        "  pred_test = predict(X_test, None, parameters, 4)\n",
        "  output[\"bonus_pred_test\"] = pred_test\n",
        "else:\n",
        "  output[\"bonus_pred_test\"] = None"
      ]
    },
    {
      "cell_type": "markdown",
      "metadata": {
        "id": "WXGnS3HQeNUc"
      },
      "source": [
        "# Submit prediction"
      ]
    },
    {
      "cell_type": "code",
      "execution_count": 187,
      "metadata": {
        "id": "twMsmXbQeDL_"
      },
      "outputs": [],
      "source": [
        "# sanity check\n",
        "assert(list(output.keys()) == ['initialize_parameters', 'initialize_parameters_deep', 'linear_forward', 'sigmoid', 'relu', 'softmax', 'linear_activation_forward_sigmoid', 'linear_activation_forward_relu', 'linear_activation_forward_softmax', 'compute_BCE_cost', 'compute_CCE_cost', 'linear_backward', 'sigmoid_backward', 'relu_backward', 'softmax_CCE_backward', 'linear_activation_backward_sigmoid', 'linear_activation_backward_relu', 'update_parameters', 'basic_pred_val', 'bonus_pred_test'])"
      ]
    },
    {
      "cell_type": "code",
      "execution_count": 188,
      "metadata": {
        "id": "bCJ0XTO_zE8A"
      },
      "outputs": [],
      "source": [
        "### START CODE HERE ### (≈ 2 lines of code)\n",
        "student_id = 108062213\n",
        "np.save(str(student_id) + \"_output.npy\", output)\n",
        "### END CODE HERE ###"
      ]
    },
    {
      "cell_type": "code",
      "execution_count": 189,
      "metadata": {
        "colab": {
          "base_uri": "https://localhost:8080/"
        },
        "id": "wFBFUUEg1to-",
        "outputId": "8b2efabd-ca80-4128-f422-ecc3959b922b"
      },
      "outputs": [
        {
          "name": "stdout",
          "output_type": "stream",
          "text": [
            "initialize_parameters： <class 'dict'>\n",
            "initialize_parameters_deep： <class 'dict'>\n",
            "linear_forward： <class 'tuple'>\n",
            "sigmoid： <class 'tuple'>\n",
            "relu： <class 'tuple'>\n",
            "softmax： <class 'tuple'>\n",
            "linear_activation_forward_sigmoid： <class 'tuple'>\n",
            "linear_activation_forward_relu： <class 'tuple'>\n",
            "linear_activation_forward_softmax： <class 'tuple'>\n",
            "compute_BCE_cost： <class 'numpy.ndarray'>\n",
            "compute_CCE_cost： <class 'numpy.ndarray'>\n",
            "linear_backward： <class 'tuple'>\n",
            "sigmoid_backward： <class 'numpy.ndarray'>\n",
            "relu_backward： <class 'numpy.ndarray'>\n",
            "softmax_CCE_backward： <class 'numpy.ndarray'>\n",
            "linear_activation_backward_sigmoid： <class 'tuple'>\n",
            "linear_activation_backward_relu： <class 'tuple'>\n",
            "update_parameters： <class 'dict'>\n",
            "basic_pred_val： <class 'numpy.ndarray'>\n",
            "bonus_pred_test： <class 'numpy.ndarray'>\n"
          ]
        }
      ],
      "source": [
        "# sanity check\n",
        "submit = np.load(str(student_id) + \"_output.npy\", allow_pickle=True).item()\n",
        "for key, value in submit.items():\n",
        "  print(str(key) + \"： \" + str(type(value)))"
      ]
    },
    {
      "cell_type": "markdown",
      "metadata": {
        "id": "E2zmpUNl9wEJ"
      },
      "source": [
        "Expected output: (without bonus) <br>\n",
        "<small>\n",
        "initialize_parameters： <class 'dict'> <br>\n",
        "initialize_parameters_deep： <class 'dict'> <br>\n",
        "linear_forward： <class 'tuple'> <br>\n",
        "sigmoid： <class 'tuple'> <br>\n",
        "relu： <class 'tuple'> <br>\n",
        "softmax： <class 'NoneType'> <br>\n",
        "linear_activation_forward_sigmoid： <class 'tuple'> <br>\n",
        "linear_activation_forward_relu： <class 'tuple'> <br>\n",
        "linear_activation_forward_softmax： <class 'NoneType'> <br>\n",
        "compute_BCE_cost： <class 'numpy.ndarray'> <br>\n",
        "compute_CCE_cost： <class 'NoneType'> <br>\n",
        "linear_backward： <class 'tuple'> <br>\n",
        "sigmoid_backward： <class 'numpy.ndarray'> <br>\n",
        "relu_backward： <class 'numpy.ndarray'> <br>\n",
        "softmax_CCE_backward： <class 'NoneType'> <br>\n",
        "linear_activation_backward_sigmoid： <class 'tuple'> <br>\n",
        "linear_activation_backward_relu： <class 'tuple'> <br>\n",
        "update_parameters： <class 'dict'> <br>\n",
        "basic_pred_val： <class 'numpy.ndarray'> <br>\n",
        "bonus_pred_test： <class 'NoneType'> <br>\n",
        "</small>"
      ]
    },
    {
      "cell_type": "markdown",
      "metadata": {
        "id": "trQqZni7jhP0"
      },
      "source": [
        "Expected output: (with bonus)<br>\n",
        "<small>\n",
        "initialize_parameters： <class 'dict'> <br>\n",
        "initialize_parameters_deep： <class 'dict'> <br>\n",
        "linear_forward： <class 'tuple'> <br>\n",
        "sigmoid： <class 'tuple'> <br>\n",
        "relu： <class 'tuple'> <br>\n",
        "softmax： <class 'tuple'> <br>\n",
        "linear_activation_forward_sigmoid： <class 'tuple'> <br>\n",
        "linear_activation_forward_relu： <class 'tuple'> <br>\n",
        "linear_activation_forward_softmax： <class 'tuple'> <br>\n",
        "compute_BCE_cost： <class 'numpy.ndarray'> <br>\n",
        "compute_CCE_cost： <class 'numpy.ndarray'> <br>\n",
        "linear_backward： <class 'tuple'> <br>\n",
        "sigmoid_backward： <class 'numpy.ndarray'> <br>\n",
        "relu_backward： <class 'numpy.ndarray'> <br>\n",
        "softmax_CCE_backward： <class 'numpy.ndarray'> <br>\n",
        "linear_activation_backward_sigmoid： <class 'tuple'> <br>\n",
        "linear_activation_backward_relu： <class 'tuple'> <br>\n",
        "update_parameters： <class 'dict'> <br>\n",
        "basic_pred_val： <class 'numpy.ndarray'> <br>\n",
        "bonus_pred_test： <class 'numpy.ndarray'>\n",
        "</small>"
      ]
    }
  ],
  "metadata": {
    "colab": {
      "collapsed_sections": [],
      "name": "HW3_Backpropagation.ipynb",
      "provenance": [],
      "toc_visible": true
    },
    "kernelspec": {
      "display_name": "Python 3.9.1 64-bit",
      "language": "python",
      "name": "python3"
    },
    "language_info": {
      "name": "python",
      "version": "3.9.1"
    },
    "vscode": {
      "interpreter": {
        "hash": "aee8b7b246df8f9039afb4144a1f6fd8d2ca17a180786b69acc140d282b71a49"
      }
    }
  },
  "nbformat": 4,
  "nbformat_minor": 0
}
